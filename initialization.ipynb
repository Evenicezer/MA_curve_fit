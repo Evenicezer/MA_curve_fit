{
 "cells": [
  {
   "cell_type": "code",
   "execution_count": 2,
   "id": "6ec0119a",
   "metadata": {},
   "outputs": [],
   "source": [
    "import numpy as np\n",
    "import pandas as pd\n",
    "from scipy.integrate import solve_ivp\n",
    "from scipy.optimize import curve_fit\n",
    "import matplotlib.pyplot as plt\n",
    "from iprocessor import add_day_name_column, add_date_name_column, smooth_sundays_rolling_w7_l"
   ]
  },
  {
   "cell_type": "code",
   "execution_count": 3,
   "id": "9d66ad70",
   "metadata": {},
   "outputs": [],
   "source": [
    "def get_value_by_date(input_date, input_dataframe, column_name):\n",
    "    \"\"\"\n",
    "    Get the value from the specified column in the DataFrame based on the provided date.\n",
    "\n",
    "    Parameters:\n",
    "    - input_date (str): The date to look for in the DataFrame.\n",
    "    - input_dataframe (pd.DataFrame): The DataFrame containing the data.\n",
    "    - column_name (str): The column from which to extract the value.\n",
    "\n",
    "    Returns:\n",
    "    - value: The value from the specified column corresponding to the given date.\n",
    "    \"\"\"\n",
    "    try:\n",
    "\n",
    "        filtered_df = input_dataframe[input_dataframe['Date'] == input_date]\n",
    "\n",
    "        # Extract the value from the specified column\n",
    "        value = filtered_df[column_name].iloc[0]\n",
    "\n",
    "        return value\n",
    "\n",
    "    except IndexError:\n",
    "        print(f\"No data available for the date {input_date} in the DataFrame.\")\n",
    "        return None"
   ]
  },
  {
   "cell_type": "code",
   "execution_count": 5,
   "id": "033afcb1",
   "metadata": {},
   "outputs": [],
   "source": [
    "df = pd.read_csv(r'data_csv\\German_case.csv')"
   ]
  },
  {
   "cell_type": "code",
   "execution_count": 7,
   "id": "289de1f7",
   "metadata": {},
   "outputs": [
    {
     "ename": "TypeError",
     "evalue": "'<' not supported between instances of 'Timestamp' and 'str'",
     "output_type": "error",
     "traceback": [
      "\u001b[1;31m---------------------------------------------------------------------------\u001b[0m",
      "\u001b[1;31mTypeError\u001b[0m                                 Traceback (most recent call last)",
      "Cell \u001b[1;32mIn[7], line 5\u001b[0m\n\u001b[0;32m      2\u001b[0m init_date \u001b[38;5;241m=\u001b[39m pd\u001b[38;5;241m.\u001b[39mto_datetime(\u001b[38;5;124m'\u001b[39m\u001b[38;5;124m2020-05-01\u001b[39m\u001b[38;5;124m'\u001b[39m)\n\u001b[0;32m      4\u001b[0m \u001b[38;5;66;03m# Check if the chosen init_date exists in the dataframe\u001b[39;00m\n\u001b[1;32m----> 5\u001b[0m \u001b[38;5;28;01mif\u001b[39;00m \u001b[43minit_date\u001b[49m\u001b[43m \u001b[49m\u001b[38;5;241;43m<\u001b[39;49m\u001b[43m \u001b[49m\u001b[43mdf\u001b[49m\u001b[43m[\u001b[49m\u001b[38;5;124;43m'\u001b[39;49m\u001b[38;5;124;43mDate\u001b[39;49m\u001b[38;5;124;43m'\u001b[39;49m\u001b[43m]\u001b[49m\u001b[38;5;241;43m.\u001b[39;49m\u001b[43mmin\u001b[49m\u001b[43m(\u001b[49m\u001b[43m)\u001b[49m \u001b[38;5;129;01mor\u001b[39;00m init_date \u001b[38;5;241m>\u001b[39m df[\u001b[38;5;124m'\u001b[39m\u001b[38;5;124mDate\u001b[39m\u001b[38;5;124m'\u001b[39m]\u001b[38;5;241m.\u001b[39mmax():\n\u001b[0;32m      6\u001b[0m     \u001b[38;5;28;01mraise\u001b[39;00m \u001b[38;5;167;01mValueError\u001b[39;00m(\u001b[38;5;124m'\u001b[39m\u001b[38;5;124mThe date is out of the range of the dataframe\u001b[39m\u001b[38;5;124m'\u001b[39m)\n\u001b[0;32m      8\u001b[0m \u001b[38;5;66;03m# Initialization of the compartments\u001b[39;00m\n",
      "\u001b[1;31mTypeError\u001b[0m: '<' not supported between instances of 'Timestamp' and 'str'"
     ]
    }
   ],
   "source": [
    "# Initialize date\n",
    "init_date = pd.to_datetime('2020-05-01')\n",
    "\n",
    "# Check if the chosen init_date exists in the dataframe\n",
    "if init_date < df['Date'].min() or init_date > df['Date'].max():\n",
    "    raise ValueError('The date is out of the range of the dataframe')\n",
    "\n",
    "# Initialization of the compartments\n",
    "date_init = init_date\n",
    "date_ec = init_date + pd.Timedelta(days=exposed_period + asymptomatic_period)\n",
    "date_c = init_date + pd.Timedelta(days=asymptomatic_period)\n",
    "date_i = init_date - pd.Timedelta(days=infectious_period)\n",
    "date_if = init_date - pd.Timedelta(days=isolated_period + infectious_period)\n",
    "\n",
    "# Ensure prob_asymptomatic is not 1 to avoid division by zero\n",
    "if prob_asymptomatic == 1:\n",
    "    raise ValueError(\"Probability of asymptomatic cases cannot be 1\")\n",
    "\n",
    "E0 = (1 / (1 - prob_asymptomatic)) * (get_value_by_date(date_ec, df_observed, 'Confirmed') - get_value_by_date(date_c, df_observed, 'Confirmed'))\n",
    "A0 = (1 / (1 - prob_asymptomatic)) * (get_value_by_date(date_c, df_observed, 'Confirmed') - get_value_by_date(date_init, df_observed, 'Confirmed'))\n",
    "I0 = prob_quarant_inf * (get_value_by_date(date_i, df_observed, 'Confirmed') - get_value_by_date(date_if, df_observed, 'Confirmed'))\n",
    "F0 = get_value_by_date(init_date, df_observed, 'Confirmed') - get_value_by_date(date_i, df_observed, 'Confirmed')\n",
    "R0 = get_value_by_date(init_date, df_observed, 'Recovered')\n",
    "D0 = get_value_by_date(init_date, df_observed, 'Deaths')\n",
    "S0 = total_population - E0 - A0 - I0 - R0 - D0 - F0\n",
    "\n",
    "print(f\"E0: {E0}, A0: {A0}, I0: {I0}, F0: {F0}, R0: {R0}, D0: {D0}, S0: {S0}\")"
   ]
  },
  {
   "cell_type": "code",
   "execution_count": null,
   "id": "8bfff04d",
   "metadata": {},
   "outputs": [],
   "source": []
  }
 ],
 "metadata": {
  "kernelspec": {
   "display_name": "Python 3 (ipykernel)",
   "language": "python",
   "name": "python3"
  },
  "language_info": {
   "codemirror_mode": {
    "name": "ipython",
    "version": 3
   },
   "file_extension": ".py",
   "mimetype": "text/x-python",
   "name": "python",
   "nbconvert_exporter": "python",
   "pygments_lexer": "ipython3",
   "version": "3.10.9"
  }
 },
 "nbformat": 4,
 "nbformat_minor": 5
}
