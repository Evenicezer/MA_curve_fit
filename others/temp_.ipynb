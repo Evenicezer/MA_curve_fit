{
 "cells": [
  {
   "cell_type": "code",
   "execution_count": 1,
   "id": "5daf0b23",
   "metadata": {},
   "outputs": [],
   "source": [
    "import numpy as np\n",
    "import pandas as pd\n",
    "from scipy.integrate import solve_ivp\n",
    "from scipy.optimize import curve_fit\n",
    "import matplotlib.pyplot as plt\n",
    "from iprocessor import add_day_name_column, plot_data_dcr, add_date_name_column, smooth_sundays_ssmt, \\\n",
    "    smooth_sundays_ssm, \\\n",
    "    smooth_sundays_rolling_ssm_w3, smooth_sundays_rolling_ssm_w5, smooth_sundays_rolling_w5_r, \\\n",
    "    smooth_sundays_rolling_w5_l, smooth_sundays_rolling_w7_l, \\\n",
    "    smooth_sundays_rolling_w7_r, smooth_sundays_rolling_ssm_w3_smt, plot_data_dcr_multi"
   ]
  },
  {
   "cell_type": "code",
   "execution_count": 2,
   "id": "6cc069ee",
   "metadata": {},
   "outputs": [],
   "source": [
    "# Sample parameters,\n",
    "contacts = 1.0\n",
    "transmission_prob = 0.1\n",
    "total_population = 1000000\n",
    "reducing_transmission = 0.859\n",
    "exposed_period = 5  # this is the incubation period\n",
    "asymptomatic_period = 14\n",
    "infectious_period = 14\n",
    "isolated_period = 21\n",
    "prob_asymptomatic = 0.3\n",
    "prob_quarant_inf = 0.5\n",
    "test_asy = 0.2\n",
    "dev_symp = 0.1\n",
    "mortality_isolated = 0.02\n",
    "mortality_infected = 0.01\n",
    "\n",
    "# Sample initial conditions-------------------------------------------------------\n",
    "S0 = total_population - 20\n",
    "E0 = 10\n",
    "A0 = 0\n",
    "I0 = 10\n",
    "F0 = 0\n",
    "R0 = 0\n",
    "D0 = 0\n",
    "initial_conditions = [S0, E0, A0, I0, F0, R0, D0]\n"
   ]
  },
  {
   "cell_type": "code",
   "execution_count": 3,
   "id": "965d1882",
   "metadata": {},
   "outputs": [],
   "source": [
    "df = pd.read_csv(r'C:\\Users\\kida_ev\\PycharmProjects\\pythonProject1\\MA_EVNZR\\German_case_.csv')\n",
    "\n",
    "# -------------------------------------------------------------------------------Convert 'Date' column to datetime format\n",
    "df['Date'] = pd.to_datetime(df['Date'], format='%Y-%m-%d')\n",
    "\n",
    "# ------------------------------------------------------------------------------  Modification\n",
    "# Add the 'days' column\n",
    "df = add_day_name_column(df)\n",
    "df = add_date_name_column(df)\n",
    "# ----------------------------------------------------------------------------- second modification with w7_l\n",
    "df_observed = smooth_sundays_rolling_w7_l(df)\n",
    "# -----------------------------------------------------------------------------------------------------\n",
    "# Taking 'days' time column from dataframe\n",
    "t = np.array(df_observed['days'])\n",
    "tmax = len(t)"
   ]
  },
  {
   "cell_type": "code",
   "execution_count": 4,
   "id": "c5b1545f",
   "metadata": {},
   "outputs": [
    {
     "data": {
      "text/plain": [
       "268"
      ]
     },
     "execution_count": 4,
     "metadata": {},
     "output_type": "execute_result"
    }
   ],
   "source": [
    "df_observed['days'].iloc[-1]"
   ]
  },
  {
   "cell_type": "code",
   "execution_count": 5,
   "id": "6c81012d",
   "metadata": {},
   "outputs": [],
   "source": [
    "def derivative_rhs(t, X, contacts, transmission_prob, total_population, reducing_transmission,\n",
    "                   exposed_period, asymptomatic_period, infectious_period, isolated_period,\n",
    "                   prob_asymptomatic, prob_quarant_inf, test_asy, dev_symp, mortality_isolated, mortality_infected):\n",
    "    S, E, A, I, F, R, D = X\n",
    "    derivS = - contacts * transmission_prob * S * (I + reducing_transmission * A) / total_population\n",
    "    derivE = contacts * transmission_prob * S * (I + reducing_transmission * A) / total_population - E / exposed_period\n",
    "    derivA = prob_asymptomatic * E / exposed_period - A / asymptomatic_period\n",
    "    derivI = (\n",
    "                         1 - prob_asymptomatic) * E / exposed_period + dev_symp * A / asymptomatic_period - I / infectious_period  # +\n",
    "    derivF = prob_quarant_inf * I / infectious_period - F / isolated_period + test_asy * A / asymptomatic_period  # prob_isolated_asy*A/asymptomatic_period\n",
    "    derivR = (1 - prob_quarant_inf - mortality_infected) * I / infectious_period + (\n",
    "                1 - mortality_isolated) * F / isolated_period + (\n",
    "                         1 - dev_symp - test_asy) * A / asymptomatic_period  # (1-prob_isolated_asy)*A / asymptomatic_period\n",
    "    derivD = (mortality_infected) * I / infectious_period + mortality_isolated * F / isolated_period\n",
    "    return np.array([derivS, derivE, derivA, derivI, derivF, derivR, derivD])\n"
   ]
  },
  {
   "cell_type": "code",
   "execution_count": 6,
   "id": "4416bf34",
   "metadata": {},
   "outputs": [],
   "source": [
    "def seaifrd_model(t, contacts, initial_conditions, transmission_prob, total_population, reducing_transmission,\n",
    "                  exposed_period, asymptomatic_period, infectious_period, isolated_period,\n",
    "                  prob_asymptomatic, prob_quarant_inf, test_asy, dev_symp, mortality_isolated, mortality_infected):\n",
    "    def derivative(t, initial_conditions):\n",
    "        return derivative_rhs(t, initial_conditions, contacts, transmission_prob, total_population,\n",
    "                              reducing_transmission,\n",
    "                              exposed_period, asymptomatic_period, infectious_period,\n",
    "                              isolated_period, prob_asymptomatic,\n",
    "                              prob_quarant_inf, test_asy, dev_symp, mortality_isolated, mortality_infected)\n",
    "\n",
    "    solution = solve_ivp(derivative, [0, tmax], initial_conditions, t_eval=t, method='RK45')\n",
    "    print(solution)\n",
    "    return solution "
   ]
  },
  {
   "cell_type": "code",
   "execution_count": 7,
   "id": "233809e8",
   "metadata": {},
   "outputs": [],
   "source": [
    "def objective(t, contacts, initial_conditions, transmission_prob, total_population, reducing_transmission,\n",
    "              exposed_period, asymptomatic_period, infectious_period, isolated_period,\n",
    "              prob_asymptomatic, prob_quarant_inf, test_asy, dev_symp, mortality_isolated, mortality_infected):\n",
    "    temp = seaifrd_model(t, contacts, initial_conditions, transmission_prob, total_population, reducing_transmission,\n",
    "                         exposed_period, asymptomatic_period, infectious_period,\n",
    "                         isolated_period, prob_asymptomatic,\n",
    "                         prob_quarant_inf, test_asy, dev_symp, mortality_isolated, mortality_infected)\n",
    "    # print(f' the name of the columns is: {type(temp)}')\n",
    "    return temp  # [temp.y[5],temp.y[6]]\n"
   ]
  },
  {
   "cell_type": "code",
   "execution_count": 8,
   "id": "7d3748c7",
   "metadata": {},
   "outputs": [
    {
     "name": "stdout",
     "output_type": "stream",
     "text": [
      "  message: The solver successfully reached the end of the integration interval.\n",
      "  success: True\n",
      "   status: 0\n",
      "        t: [  0   1 ... 267 268]\n",
      "        y: [[ 1.000e+06  1.000e+06 ...  9.904e+05  9.902e+05]\n",
      "            [ 1.000e+01  9.146e+00 ...  8.026e+02  8.169e+02]\n",
      "            ...\n",
      "            [ 0.000e+00  3.836e-01 ...  6.055e+03  6.167e+03]\n",
      "            [ 0.000e+00  7.539e-03 ...  9.354e+01  9.527e+01]]\n",
      "      sol: None\n",
      " t_events: None\n",
      " y_events: None\n",
      "     nfev: 200\n",
      "     njev: 0\n",
      "      nlu: 0\n"
     ]
    }
   ],
   "source": [
    "def parse_ivp_ode(return_from_objective):\n",
    "    \"\"\"takes the function from the ode; and the index 5 and 6; represent the compartment\n",
    "    recovered and dead\n",
    "    return: np array of recovered and dead for dialy not commulative; so that we can fit\"\"\"\n",
    "    recovered, dead = return_from_objective.y[5], return_from_objective.y[6]\n",
    "    time_array = return_from_objective.t\n",
    "    recovered_difference = []\n",
    "    dead_difference = []\n",
    "    for t_index in range(1, len(time_array)):\n",
    "        # for recovered\n",
    "        recovered_t = recovered[t_index]\n",
    "        recovered_t_minus_1 = recovered[t_index - 1]\n",
    "        recovered_difference.append(recovered_t - recovered_t_minus_1)\n",
    "        # for dead\n",
    "        death_t = dead[t_index]\n",
    "        death_t_minus_1 = dead[t_index - 1]\n",
    "        dead_difference.append(death_t - death_t_minus_1)\n",
    "    return [np.array(recovered_difference), np.array(dead_difference)]\n",
    "\n",
    "\n",
    "return_from_objective = objective(t, contacts, initial_conditions, transmission_prob, total_population,\n",
    "                                  reducing_transmission,\n",
    "                                  exposed_period, asymptomatic_period, infectious_period, isolated_period,\n",
    "                                  prob_asymptomatic, prob_quarant_inf, test_asy, dev_symp, mortality_isolated,\n",
    "                                  mortality_infected)\n",
    "\n",
    "# print(f' here are the recovered and dead: {parse_ivp_ode(return_from_objective)}')\n",
    "array_recovered, array_dead = parse_ivp_ode(return_from_objective)"
   ]
  },
  {
   "cell_type": "code",
   "execution_count": 9,
   "id": "69ae7578",
   "metadata": {},
   "outputs": [],
   "source": [
    "\n",
    "# print(f'from recovered array{array_recovered}')\n",
    "# print(f'from dead array{array_dead}')\n",
    "\n",
    "\n",
    "\n",
    "def objective_function_(t, contacts, initial_conditions, transmission_prob, total_population, reducing_transmission,\n",
    "                        exposed_period, asymptomatic_period, infectious_period, isolated_period,\n",
    "                        prob_asymptomatic, prob_quarant_inf, test_asy, dev_symp, mortality_isolated,\n",
    "                        mortality_infected):\n",
    "    temp = seaifrd_model(t, contacts, initial_conditions, transmission_prob, total_population, reducing_transmission,\n",
    "                         exposed_period, asymptomatic_period, infectious_period,\n",
    "                         isolated_period, prob_asymptomatic,\n",
    "                         prob_quarant_inf, test_asy, dev_symp, mortality_isolated, mortality_infected)\n",
    "\n",
    "    recovered = temp.y[5]\n",
    "    dead = temp.y[6]\n",
    "    daily_recovered = recovered(t) - recovered(t - 1)\n",
    "    daily_dead = dead(t) - dead(t - 1)\n",
    "    return [daily_recovered, daily_dead]\n",
    "\n",
    "\n",
    "def objective_function(t, contacts, initial_conditions, transmission_prob, total_population, reducing_transmission,\n",
    "                       exposed_period, asymptomatic_period, infectious_period, isolated_period,\n",
    "                       prob_asymptomatic, prob_quarant_inf, test_asy, dev_symp, mortality_isolated, mortality_infected):\n",
    "    temp = seaifrd_model(t, contacts, initial_conditions, transmission_prob, total_population, reducing_transmission,\n",
    "                         exposed_period, asymptomatic_period, infectious_period,\n",
    "                         isolated_period, prob_asymptomatic,\n",
    "                         prob_quarant_inf, test_asy, dev_symp, mortality_isolated, mortality_infected)\n",
    "\n",
    "    recovered = temp.y[5]\n",
    "    dead = temp.y[6]\n",
    "    daily_recovered_ = []\n",
    "    dialy_death_ = []\n",
    "    for t_index in range(1, len(t)):\n",
    "        # for recovered\n",
    "        recovered_t = recovered[t_index]\n",
    "        recovered_t_minus_1 = recovered[t_index - 1]\n",
    "        daily_recovered_.append(recovered_t - recovered_t_minus_1)\n",
    "        # for dead\n",
    "        death_t = dead[t_index]\n",
    "        death_t_minus_1 = dead[t_index - 1]\n",
    "        dialy_death_.append(death_t - death_t_minus_1)\n",
    "    return [daily_recovered_, dialy_death_]\n"
   ]
  },
  {
   "cell_type": "code",
   "execution_count": 11,
   "id": "747f954d",
   "metadata": {},
   "outputs": [],
   "source": [
    "t_end = df_observed['days'].iloc[-1]\n",
    "\n",
    "# Create a sequence from 0 to t_end\n",
    "t_fit = np.arange(0, t_end + 1, 1)\n",
    "\n",
    "# Concatenate the sequence with itself to repeat from 0 to t_end\n",
    "t_fit = np.concatenate([t_fit, t_fit])\n",
    "#print(np.concatenate([array_recovered,array_dead]))"
   ]
  },
  {
   "cell_type": "code",
   "execution_count": 14,
   "id": "d0ef75d3",
   "metadata": {},
   "outputs": [
    {
     "data": {
      "text/plain": [
       "(538,)"
      ]
     },
     "execution_count": 14,
     "metadata": {},
     "output_type": "execute_result"
    }
   ],
   "source": [
    "t_fit.shape"
   ]
  },
  {
   "cell_type": "code",
   "execution_count": 10,
   "id": "a29b942e",
   "metadata": {},
   "outputs": [
    {
     "name": "stdout",
     "output_type": "stream",
     "text": [
      "  message: The solver successfully reached the end of the integration interval.\n",
      "  success: True\n",
      "   status: 0\n",
      "        t: [  0   1 ... 267 268]\n",
      "        y: [[ 1.000e+06  1.000e+06 ...  9.904e+05  9.902e+05]\n",
      "            [ 1.000e+01  9.146e+00 ...  8.026e+02  8.169e+02]\n",
      "            ...\n",
      "            [ 0.000e+00  3.836e-01 ...  6.055e+03  6.167e+03]\n",
      "            [ 0.000e+00  7.539e-03 ...  9.354e+01  9.527e+01]]\n",
      "      sol: None\n",
      " t_events: None\n",
      " y_events: None\n",
      "     nfev: 200\n",
      "     njev: 0\n",
      "      nlu: 0\n"
     ]
    },
    {
     "ename": "ValueError",
     "evalue": "`y0` must be 1-dimensional.",
     "output_type": "error",
     "traceback": [
      "\u001b[1;31m---------------------------------------------------------------------------\u001b[0m",
      "\u001b[1;31mValueError\u001b[0m                                Traceback (most recent call last)",
      "Cell \u001b[1;32mIn[10], line 8\u001b[0m\n\u001b[0;32m      1\u001b[0m x,y\u001b[38;5;241m=\u001b[39mobjective_function(t, contacts, initial_conditions, transmission_prob, total_population, reducing_transmission,\n\u001b[0;32m      2\u001b[0m                        exposed_period, asymptomatic_period, infectious_period, isolated_period,\n\u001b[0;32m      3\u001b[0m                        prob_asymptomatic, prob_quarant_inf, test_asy, dev_symp, mortality_isolated, mortality_infected)\n\u001b[0;32m      4\u001b[0m \u001b[38;5;66;03m#result_vector=(np.concatenate([x,y]))\u001b[39;00m\n\u001b[0;32m      5\u001b[0m \u001b[38;5;66;03m#print(result_vector)\u001b[39;00m\n\u001b[0;32m      6\u001b[0m \u001b[38;5;66;03m#print(f'this is the results{x, y}')\u001b[39;00m\n\u001b[0;32m      7\u001b[0m \u001b[38;5;66;03m# curve_fit to estimate parameters\u001b[39;00m\n\u001b[1;32m----> 8\u001b[0m params, _ \u001b[38;5;241m=\u001b[39m curve_fit(objective_function, t, np\u001b[38;5;241m.\u001b[39mconcatenate([array_recovered, array_dead]))  \u001b[38;5;66;03m# since curve_fit is expecting target values ydata as a single array; and x=time\u001b[39;00m\n\u001b[0;32m      9\u001b[0m \u001b[38;5;28mprint\u001b[39m(params)\n",
      "File \u001b[1;32m~\\AppData\\Local\\anaconda3\\Lib\\site-packages\\scipy\\optimize\\_minpack_py.py:963\u001b[0m, in \u001b[0;36mcurve_fit\u001b[1;34m(f, xdata, ydata, p0, sigma, absolute_sigma, check_finite, bounds, method, jac, full_output, nan_policy, **kwargs)\u001b[0m\n\u001b[0;32m    960\u001b[0m \u001b[38;5;28;01mif\u001b[39;00m ydata\u001b[38;5;241m.\u001b[39msize \u001b[38;5;241m!=\u001b[39m \u001b[38;5;241m1\u001b[39m \u001b[38;5;129;01mand\u001b[39;00m n \u001b[38;5;241m>\u001b[39m ydata\u001b[38;5;241m.\u001b[39msize:\n\u001b[0;32m    961\u001b[0m     \u001b[38;5;28;01mraise\u001b[39;00m \u001b[38;5;167;01mTypeError\u001b[39;00m(\u001b[38;5;124mf\u001b[39m\u001b[38;5;124m\"\u001b[39m\u001b[38;5;124mThe number of func parameters=\u001b[39m\u001b[38;5;132;01m{\u001b[39;00mn\u001b[38;5;132;01m}\u001b[39;00m\u001b[38;5;124m must not\u001b[39m\u001b[38;5;124m\"\u001b[39m\n\u001b[0;32m    962\u001b[0m                     \u001b[38;5;124mf\u001b[39m\u001b[38;5;124m\"\u001b[39m\u001b[38;5;124m exceed the number of data points=\u001b[39m\u001b[38;5;132;01m{\u001b[39;00mydata\u001b[38;5;241m.\u001b[39msize\u001b[38;5;132;01m}\u001b[39;00m\u001b[38;5;124m\"\u001b[39m)\n\u001b[1;32m--> 963\u001b[0m res \u001b[38;5;241m=\u001b[39m leastsq(func, p0, Dfun\u001b[38;5;241m=\u001b[39mjac, full_output\u001b[38;5;241m=\u001b[39m\u001b[38;5;241m1\u001b[39m, \u001b[38;5;241m*\u001b[39m\u001b[38;5;241m*\u001b[39mkwargs)\n\u001b[0;32m    964\u001b[0m popt, pcov, infodict, errmsg, ier \u001b[38;5;241m=\u001b[39m res\n\u001b[0;32m    965\u001b[0m ysize \u001b[38;5;241m=\u001b[39m \u001b[38;5;28mlen\u001b[39m(infodict[\u001b[38;5;124m'\u001b[39m\u001b[38;5;124mfvec\u001b[39m\u001b[38;5;124m'\u001b[39m])\n",
      "File \u001b[1;32m~\\AppData\\Local\\anaconda3\\Lib\\site-packages\\scipy\\optimize\\_minpack_py.py:415\u001b[0m, in \u001b[0;36mleastsq\u001b[1;34m(func, x0, args, Dfun, full_output, col_deriv, ftol, xtol, gtol, maxfev, epsfcn, factor, diag)\u001b[0m\n\u001b[0;32m    413\u001b[0m \u001b[38;5;28;01mif\u001b[39;00m \u001b[38;5;129;01mnot\u001b[39;00m \u001b[38;5;28misinstance\u001b[39m(args, \u001b[38;5;28mtuple\u001b[39m):\n\u001b[0;32m    414\u001b[0m     args \u001b[38;5;241m=\u001b[39m (args,)\n\u001b[1;32m--> 415\u001b[0m shape, dtype \u001b[38;5;241m=\u001b[39m _check_func(\u001b[38;5;124m'\u001b[39m\u001b[38;5;124mleastsq\u001b[39m\u001b[38;5;124m'\u001b[39m, \u001b[38;5;124m'\u001b[39m\u001b[38;5;124mfunc\u001b[39m\u001b[38;5;124m'\u001b[39m, func, x0, args, n)\n\u001b[0;32m    416\u001b[0m m \u001b[38;5;241m=\u001b[39m shape[\u001b[38;5;241m0\u001b[39m]\n\u001b[0;32m    418\u001b[0m \u001b[38;5;28;01mif\u001b[39;00m n \u001b[38;5;241m>\u001b[39m m:\n",
      "File \u001b[1;32m~\\AppData\\Local\\anaconda3\\Lib\\site-packages\\scipy\\optimize\\_minpack_py.py:25\u001b[0m, in \u001b[0;36m_check_func\u001b[1;34m(checker, argname, thefunc, x0, args, numinputs, output_shape)\u001b[0m\n\u001b[0;32m     23\u001b[0m \u001b[38;5;28;01mdef\u001b[39;00m \u001b[38;5;21m_check_func\u001b[39m(checker, argname, thefunc, x0, args, numinputs,\n\u001b[0;32m     24\u001b[0m                 output_shape\u001b[38;5;241m=\u001b[39m\u001b[38;5;28;01mNone\u001b[39;00m):\n\u001b[1;32m---> 25\u001b[0m     res \u001b[38;5;241m=\u001b[39m atleast_1d(thefunc(\u001b[38;5;241m*\u001b[39m((x0[:numinputs],) \u001b[38;5;241m+\u001b[39m args)))\n\u001b[0;32m     26\u001b[0m     \u001b[38;5;28;01mif\u001b[39;00m (output_shape \u001b[38;5;129;01mis\u001b[39;00m \u001b[38;5;129;01mnot\u001b[39;00m \u001b[38;5;28;01mNone\u001b[39;00m) \u001b[38;5;129;01mand\u001b[39;00m (shape(res) \u001b[38;5;241m!=\u001b[39m output_shape):\n\u001b[0;32m     27\u001b[0m         \u001b[38;5;28;01mif\u001b[39;00m (output_shape[\u001b[38;5;241m0\u001b[39m] \u001b[38;5;241m!=\u001b[39m \u001b[38;5;241m1\u001b[39m):\n",
      "File \u001b[1;32m~\\AppData\\Local\\anaconda3\\Lib\\site-packages\\scipy\\optimize\\_minpack_py.py:507\u001b[0m, in \u001b[0;36m_lightweight_memoizer.<locals>._memoized_func\u001b[1;34m(params)\u001b[0m\n\u001b[0;32m    504\u001b[0m \u001b[38;5;28;01mif\u001b[39;00m np\u001b[38;5;241m.\u001b[39mall(_memoized_func\u001b[38;5;241m.\u001b[39mlast_params \u001b[38;5;241m==\u001b[39m params):\n\u001b[0;32m    505\u001b[0m     \u001b[38;5;28;01mreturn\u001b[39;00m _memoized_func\u001b[38;5;241m.\u001b[39mlast_val\n\u001b[1;32m--> 507\u001b[0m val \u001b[38;5;241m=\u001b[39m f(params)\n\u001b[0;32m    509\u001b[0m \u001b[38;5;28;01mif\u001b[39;00m _memoized_func\u001b[38;5;241m.\u001b[39mlast_params \u001b[38;5;129;01mis\u001b[39;00m \u001b[38;5;28;01mNone\u001b[39;00m:\n\u001b[0;32m    510\u001b[0m     _memoized_func\u001b[38;5;241m.\u001b[39mlast_params \u001b[38;5;241m=\u001b[39m np\u001b[38;5;241m.\u001b[39mcopy(params)\n",
      "File \u001b[1;32m~\\AppData\\Local\\anaconda3\\Lib\\site-packages\\scipy\\optimize\\_minpack_py.py:523\u001b[0m, in \u001b[0;36m_wrap_func.<locals>.func_wrapped\u001b[1;34m(params)\u001b[0m\n\u001b[0;32m    522\u001b[0m \u001b[38;5;28;01mdef\u001b[39;00m \u001b[38;5;21mfunc_wrapped\u001b[39m(params):\n\u001b[1;32m--> 523\u001b[0m     \u001b[38;5;28;01mreturn\u001b[39;00m func(xdata, \u001b[38;5;241m*\u001b[39mparams) \u001b[38;5;241m-\u001b[39m ydata\n",
      "Cell \u001b[1;32mIn[9], line 25\u001b[0m, in \u001b[0;36mobjective_function\u001b[1;34m(t, contacts, initial_conditions, transmission_prob, total_population, reducing_transmission, exposed_period, asymptomatic_period, infectious_period, isolated_period, prob_asymptomatic, prob_quarant_inf, test_asy, dev_symp, mortality_isolated, mortality_infected)\u001b[0m\n\u001b[0;32m     22\u001b[0m \u001b[38;5;28;01mdef\u001b[39;00m \u001b[38;5;21mobjective_function\u001b[39m(t, contacts, initial_conditions, transmission_prob, total_population, reducing_transmission,\n\u001b[0;32m     23\u001b[0m                        exposed_period, asymptomatic_period, infectious_period, isolated_period,\n\u001b[0;32m     24\u001b[0m                        prob_asymptomatic, prob_quarant_inf, test_asy, dev_symp, mortality_isolated, mortality_infected):\n\u001b[1;32m---> 25\u001b[0m     temp \u001b[38;5;241m=\u001b[39m seaifrd_model(t, contacts, initial_conditions, transmission_prob, total_population, reducing_transmission,\n\u001b[0;32m     26\u001b[0m                          exposed_period, asymptomatic_period, infectious_period,\n\u001b[0;32m     27\u001b[0m                          isolated_period, prob_asymptomatic,\n\u001b[0;32m     28\u001b[0m                          prob_quarant_inf, test_asy, dev_symp, mortality_isolated, mortality_infected)\n\u001b[0;32m     30\u001b[0m     recovered \u001b[38;5;241m=\u001b[39m temp\u001b[38;5;241m.\u001b[39my[\u001b[38;5;241m5\u001b[39m]\n\u001b[0;32m     31\u001b[0m     dead \u001b[38;5;241m=\u001b[39m temp\u001b[38;5;241m.\u001b[39my[\u001b[38;5;241m6\u001b[39m]\n",
      "Cell \u001b[1;32mIn[6], line 11\u001b[0m, in \u001b[0;36mseaifrd_model\u001b[1;34m(t, contacts, initial_conditions, transmission_prob, total_population, reducing_transmission, exposed_period, asymptomatic_period, infectious_period, isolated_period, prob_asymptomatic, prob_quarant_inf, test_asy, dev_symp, mortality_isolated, mortality_infected)\u001b[0m\n\u001b[0;32m      4\u001b[0m \u001b[38;5;28;01mdef\u001b[39;00m \u001b[38;5;21mderivative\u001b[39m(t, initial_conditions):\n\u001b[0;32m      5\u001b[0m     \u001b[38;5;28;01mreturn\u001b[39;00m derivative_rhs(t, initial_conditions, contacts, transmission_prob, total_population,\n\u001b[0;32m      6\u001b[0m                           reducing_transmission,\n\u001b[0;32m      7\u001b[0m                           exposed_period, asymptomatic_period, infectious_period,\n\u001b[0;32m      8\u001b[0m                           isolated_period, prob_asymptomatic,\n\u001b[0;32m      9\u001b[0m                           prob_quarant_inf, test_asy, dev_symp, mortality_isolated, mortality_infected)\n\u001b[1;32m---> 11\u001b[0m solution \u001b[38;5;241m=\u001b[39m solve_ivp(derivative, [\u001b[38;5;241m0\u001b[39m, tmax], initial_conditions, t_eval\u001b[38;5;241m=\u001b[39mt, method\u001b[38;5;241m=\u001b[39m\u001b[38;5;124m'\u001b[39m\u001b[38;5;124mRK45\u001b[39m\u001b[38;5;124m'\u001b[39m)\n\u001b[0;32m     12\u001b[0m \u001b[38;5;28mprint\u001b[39m(solution)\n\u001b[0;32m     13\u001b[0m \u001b[38;5;28;01mreturn\u001b[39;00m solution\n",
      "File \u001b[1;32m~\\AppData\\Local\\anaconda3\\Lib\\site-packages\\scipy\\integrate\\_ivp\\ivp.py:568\u001b[0m, in \u001b[0;36msolve_ivp\u001b[1;34m(fun, t_span, y0, method, t_eval, dense_output, events, vectorized, args, **options)\u001b[0m\n\u001b[0;32m    565\u001b[0m \u001b[38;5;28;01mif\u001b[39;00m method \u001b[38;5;129;01min\u001b[39;00m METHODS:\n\u001b[0;32m    566\u001b[0m     method \u001b[38;5;241m=\u001b[39m METHODS[method]\n\u001b[1;32m--> 568\u001b[0m solver \u001b[38;5;241m=\u001b[39m method(fun, t0, y0, tf, vectorized\u001b[38;5;241m=\u001b[39mvectorized, \u001b[38;5;241m*\u001b[39m\u001b[38;5;241m*\u001b[39moptions)\n\u001b[0;32m    570\u001b[0m \u001b[38;5;28;01mif\u001b[39;00m t_eval \u001b[38;5;129;01mis\u001b[39;00m \u001b[38;5;28;01mNone\u001b[39;00m:\n\u001b[0;32m    571\u001b[0m     ts \u001b[38;5;241m=\u001b[39m [t0]\n",
      "File \u001b[1;32m~\\AppData\\Local\\anaconda3\\Lib\\site-packages\\scipy\\integrate\\_ivp\\rk.py:89\u001b[0m, in \u001b[0;36mRungeKutta.__init__\u001b[1;34m(self, fun, t0, y0, t_bound, max_step, rtol, atol, vectorized, first_step, **extraneous)\u001b[0m\n\u001b[0;32m     85\u001b[0m \u001b[38;5;28;01mdef\u001b[39;00m \u001b[38;5;21m__init__\u001b[39m(\u001b[38;5;28mself\u001b[39m, fun, t0, y0, t_bound, max_step\u001b[38;5;241m=\u001b[39mnp\u001b[38;5;241m.\u001b[39minf,\n\u001b[0;32m     86\u001b[0m              rtol\u001b[38;5;241m=\u001b[39m\u001b[38;5;241m1e-3\u001b[39m, atol\u001b[38;5;241m=\u001b[39m\u001b[38;5;241m1e-6\u001b[39m, vectorized\u001b[38;5;241m=\u001b[39m\u001b[38;5;28;01mFalse\u001b[39;00m,\n\u001b[0;32m     87\u001b[0m              first_step\u001b[38;5;241m=\u001b[39m\u001b[38;5;28;01mNone\u001b[39;00m, \u001b[38;5;241m*\u001b[39m\u001b[38;5;241m*\u001b[39mextraneous):\n\u001b[0;32m     88\u001b[0m     warn_extraneous(extraneous)\n\u001b[1;32m---> 89\u001b[0m     \u001b[38;5;28msuper\u001b[39m()\u001b[38;5;241m.\u001b[39m\u001b[38;5;21m__init__\u001b[39m(fun, t0, y0, t_bound, vectorized,\n\u001b[0;32m     90\u001b[0m                      support_complex\u001b[38;5;241m=\u001b[39m\u001b[38;5;28;01mTrue\u001b[39;00m)\n\u001b[0;32m     91\u001b[0m     \u001b[38;5;28mself\u001b[39m\u001b[38;5;241m.\u001b[39my_old \u001b[38;5;241m=\u001b[39m \u001b[38;5;28;01mNone\u001b[39;00m\n\u001b[0;32m     92\u001b[0m     \u001b[38;5;28mself\u001b[39m\u001b[38;5;241m.\u001b[39mmax_step \u001b[38;5;241m=\u001b[39m validate_max_step(max_step)\n",
      "File \u001b[1;32m~\\AppData\\Local\\anaconda3\\Lib\\site-packages\\scipy\\integrate\\_ivp\\base.py:135\u001b[0m, in \u001b[0;36mOdeSolver.__init__\u001b[1;34m(self, fun, t0, y0, t_bound, vectorized, support_complex)\u001b[0m\n\u001b[0;32m    133\u001b[0m \u001b[38;5;28mself\u001b[39m\u001b[38;5;241m.\u001b[39mt_old \u001b[38;5;241m=\u001b[39m \u001b[38;5;28;01mNone\u001b[39;00m\n\u001b[0;32m    134\u001b[0m \u001b[38;5;28mself\u001b[39m\u001b[38;5;241m.\u001b[39mt \u001b[38;5;241m=\u001b[39m t0\n\u001b[1;32m--> 135\u001b[0m \u001b[38;5;28mself\u001b[39m\u001b[38;5;241m.\u001b[39m_fun, \u001b[38;5;28mself\u001b[39m\u001b[38;5;241m.\u001b[39my \u001b[38;5;241m=\u001b[39m check_arguments(fun, y0, support_complex)\n\u001b[0;32m    136\u001b[0m \u001b[38;5;28mself\u001b[39m\u001b[38;5;241m.\u001b[39mt_bound \u001b[38;5;241m=\u001b[39m t_bound\n\u001b[0;32m    137\u001b[0m \u001b[38;5;28mself\u001b[39m\u001b[38;5;241m.\u001b[39mvectorized \u001b[38;5;241m=\u001b[39m vectorized\n",
      "File \u001b[1;32m~\\AppData\\Local\\anaconda3\\Lib\\site-packages\\scipy\\integrate\\_ivp\\base.py:17\u001b[0m, in \u001b[0;36mcheck_arguments\u001b[1;34m(fun, y0, support_complex)\u001b[0m\n\u001b[0;32m     14\u001b[0m y0 \u001b[38;5;241m=\u001b[39m y0\u001b[38;5;241m.\u001b[39mastype(dtype, copy\u001b[38;5;241m=\u001b[39m\u001b[38;5;28;01mFalse\u001b[39;00m)\n\u001b[0;32m     16\u001b[0m \u001b[38;5;28;01mif\u001b[39;00m y0\u001b[38;5;241m.\u001b[39mndim \u001b[38;5;241m!=\u001b[39m \u001b[38;5;241m1\u001b[39m:\n\u001b[1;32m---> 17\u001b[0m     \u001b[38;5;28;01mraise\u001b[39;00m \u001b[38;5;167;01mValueError\u001b[39;00m(\u001b[38;5;124m\"\u001b[39m\u001b[38;5;124m`y0` must be 1-dimensional.\u001b[39m\u001b[38;5;124m\"\u001b[39m)\n\u001b[0;32m     19\u001b[0m \u001b[38;5;28;01mif\u001b[39;00m \u001b[38;5;129;01mnot\u001b[39;00m np\u001b[38;5;241m.\u001b[39misfinite(y0)\u001b[38;5;241m.\u001b[39mall():\n\u001b[0;32m     20\u001b[0m     \u001b[38;5;28;01mraise\u001b[39;00m \u001b[38;5;167;01mValueError\u001b[39;00m(\u001b[38;5;124m\"\u001b[39m\u001b[38;5;124mAll components of the initial state `y0` must be finite.\u001b[39m\u001b[38;5;124m\"\u001b[39m)\n",
      "\u001b[1;31mValueError\u001b[0m: `y0` must be 1-dimensional."
     ]
    }
   ],
   "source": [
    "x,y=objective_function(t, contacts, initial_conditions, transmission_prob, total_population, reducing_transmission,\n",
    "                       exposed_period, asymptomatic_period, infectious_period, isolated_period,\n",
    "                       prob_asymptomatic, prob_quarant_inf, test_asy, dev_symp, mortality_isolated, mortality_infected)\n",
    "#result_vector=(np.concatenate([x,y]))\n",
    "#print(result_vector)\n",
    "#print(f'this is the results{x, y}')\n",
    "# curve_fit to estimate parameters\n",
    "params, _ = curve_fit(objective_function, t, np.concatenate([array_recovered, array_dead]))  # since curve_fit is expecting target values ydata as a single array; and x=time\n",
    "print(params)"
   ]
  },
  {
   "cell_type": "code",
   "execution_count": null,
   "id": "c6714919",
   "metadata": {},
   "outputs": [],
   "source": []
  }
 ],
 "metadata": {
  "kernelspec": {
   "display_name": "Python 3 (ipykernel)",
   "language": "python",
   "name": "python3"
  },
  "language_info": {
   "codemirror_mode": {
    "name": "ipython",
    "version": 3
   },
   "file_extension": ".py",
   "mimetype": "text/x-python",
   "name": "python",
   "nbconvert_exporter": "python",
   "pygments_lexer": "ipython3",
   "version": "3.11.5"
  }
 },
 "nbformat": 4,
 "nbformat_minor": 5
}
