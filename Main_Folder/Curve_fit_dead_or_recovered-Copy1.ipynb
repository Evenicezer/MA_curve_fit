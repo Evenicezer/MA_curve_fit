{
 "cells": [
  {
   "cell_type": "code",
   "execution_count": 55,
   "id": "9340c856",
   "metadata": {},
   "outputs": [],
   "source": [
    "import numpy as np\n",
    "import pandas as pd\n",
    "from scipy.integrate import solve_ivp\n",
    "from scipy.optimize import curve_fit\n",
    "import matplotlib.pyplot as plt\n",
    "from iprocessor import add_day_name_column, add_date_name_column, smooth_sundays_rolling_w7_l"
   ]
  },
  {
   "cell_type": "markdown",
   "id": "a50b41ec",
   "metadata": {},
   "source": [
    "#### the python script iprocessor, smoothes the data by implementing moving average"
   ]
  },
  {
   "cell_type": "markdown",
   "id": "686bf952",
   "metadata": {},
   "source": [
    "## there is need for \n",
    "- parameters\n",
    "- initialization for the compartments"
   ]
  },
  {
   "cell_type": "code",
   "execution_count": 56,
   "id": "10aecb0a",
   "metadata": {},
   "outputs": [],
   "source": [
    "# Sample parameters,\n",
    "#contacts = 2.0\n",
    "transmission_prob = 0.3649\n",
    "reducing_transmission = 0.764\n",
    "exposed_period = 5.2  #\n",
    "asymptomatic_period = 7\n",
    "infectious_period = 3.7\n",
    "isolated_period = 11  # 11,23\n",
    "prob_asymptomatic = 0.2\n",
    "prob_quarant_inf = 0.05\n",
    "test_asy = 0.171\n",
    "dev_symp = 0.125\n",
    "mortality_isolated = 0.002\n",
    "mortality_infected = 0.01"
   ]
  },
  {
   "cell_type": "code",
   "execution_count": 57,
   "id": "1e18e427",
   "metadata": {},
   "outputs": [],
   "source": [
    "total_population = 82_000_000  # Total number of individuals\n",
    "E0 = 2026.25\n",
    "A0 = 3798\n",
    "I0 = 376.4\n",
    "F0 = 2255\n",
    "R0 = 170204\n",
    "D0 = 9060\n",
    "S0 = total_population - E0 - A0 - I0 - F0 - R0 - D0\n",
    "initial_conditions = [S0, E0, A0, I0, F0, R0, D0]"
   ]
  },
  {
   "cell_type": "markdown",
   "id": "15507799",
   "metadata": {},
   "source": [
    "### Dataframe"
   ]
  },
  {
   "cell_type": "code",
   "execution_count": 58,
   "id": "0d9d98e2",
   "metadata": {},
   "outputs": [],
   "source": [
    "df = pd.read_csv(r'German_case_period_may_aug.csv')"
   ]
  },
  {
   "cell_type": "code",
   "execution_count": 59,
   "id": "39bfc430",
   "metadata": {},
   "outputs": [
    {
     "data": {
      "text/html": [
       "<div>\n",
       "<style scoped>\n",
       "    .dataframe tbody tr th:only-of-type {\n",
       "        vertical-align: middle;\n",
       "    }\n",
       "\n",
       "    .dataframe tbody tr th {\n",
       "        vertical-align: top;\n",
       "    }\n",
       "\n",
       "    .dataframe thead th {\n",
       "        text-align: right;\n",
       "    }\n",
       "</style>\n",
       "<table border=\"1\" class=\"dataframe\">\n",
       "  <thead>\n",
       "    <tr style=\"text-align: right;\">\n",
       "      <th></th>\n",
       "      <th>Date</th>\n",
       "      <th>Confirmed</th>\n",
       "      <th>Deaths</th>\n",
       "      <th>Recovered</th>\n",
       "      <th>n_confirmed</th>\n",
       "      <th>n_death</th>\n",
       "      <th>n_recovered</th>\n",
       "      <th>Infection_case</th>\n",
       "      <th>date_name</th>\n",
       "      <th>days</th>\n",
       "      <th>rolling_mean_r</th>\n",
       "      <th>rolling_mean_c</th>\n",
       "      <th>rolling_mean_d</th>\n",
       "    </tr>\n",
       "  </thead>\n",
       "  <tbody>\n",
       "    <tr>\n",
       "      <th>0</th>\n",
       "      <td>2020-05-01</td>\n",
       "      <td>166468</td>\n",
       "      <td>8602</td>\n",
       "      <td>157866</td>\n",
       "      <td>428.333333</td>\n",
       "      <td>16.000000</td>\n",
       "      <td>412.333333</td>\n",
       "      <td>915</td>\n",
       "      <td>Friday</td>\n",
       "      <td>1</td>\n",
       "      <td>412.333333</td>\n",
       "      <td>428.333333</td>\n",
       "      <td>16.000000</td>\n",
       "    </tr>\n",
       "    <tr>\n",
       "      <th>1</th>\n",
       "      <td>2020-05-02</td>\n",
       "      <td>167160</td>\n",
       "      <td>8626</td>\n",
       "      <td>158534</td>\n",
       "      <td>529.250000</td>\n",
       "      <td>22.750000</td>\n",
       "      <td>506.500000</td>\n",
       "      <td>846</td>\n",
       "      <td>Saturday</td>\n",
       "      <td>2</td>\n",
       "      <td>506.500000</td>\n",
       "      <td>529.250000</td>\n",
       "      <td>22.750000</td>\n",
       "    </tr>\n",
       "    <tr>\n",
       "      <th>2</th>\n",
       "      <td>2020-05-03</td>\n",
       "      <td>167753</td>\n",
       "      <td>8650</td>\n",
       "      <td>159103</td>\n",
       "      <td>602.600000</td>\n",
       "      <td>25.800000</td>\n",
       "      <td>576.800000</td>\n",
       "      <td>805</td>\n",
       "      <td>Sunday</td>\n",
       "      <td>3</td>\n",
       "      <td>576.800000</td>\n",
       "      <td>602.600000</td>\n",
       "      <td>25.800000</td>\n",
       "    </tr>\n",
       "    <tr>\n",
       "      <th>3</th>\n",
       "      <td>2020-05-04</td>\n",
       "      <td>168585</td>\n",
       "      <td>8693</td>\n",
       "      <td>159892</td>\n",
       "      <td>654.666667</td>\n",
       "      <td>25.833333</td>\n",
       "      <td>628.833333</td>\n",
       "      <td>607</td>\n",
       "      <td>Monday</td>\n",
       "      <td>4</td>\n",
       "      <td>628.833333</td>\n",
       "      <td>654.666667</td>\n",
       "      <td>25.833333</td>\n",
       "    </tr>\n",
       "    <tr>\n",
       "      <th>4</th>\n",
       "      <td>2020-05-05</td>\n",
       "      <td>169481</td>\n",
       "      <td>8731</td>\n",
       "      <td>160750</td>\n",
       "      <td>682.000000</td>\n",
       "      <td>27.285714</td>\n",
       "      <td>654.714286</td>\n",
       "      <td>447</td>\n",
       "      <td>Tuesday</td>\n",
       "      <td>5</td>\n",
       "      <td>654.714286</td>\n",
       "      <td>682.000000</td>\n",
       "      <td>27.285714</td>\n",
       "    </tr>\n",
       "    <tr>\n",
       "      <th>...</th>\n",
       "      <td>...</td>\n",
       "      <td>...</td>\n",
       "      <td>...</td>\n",
       "      <td>...</td>\n",
       "      <td>...</td>\n",
       "      <td>...</td>\n",
       "      <td>...</td>\n",
       "      <td>...</td>\n",
       "      <td>...</td>\n",
       "      <td>...</td>\n",
       "      <td>...</td>\n",
       "      <td>...</td>\n",
       "      <td>...</td>\n",
       "    </tr>\n",
       "    <tr>\n",
       "      <th>88</th>\n",
       "      <td>2020-07-28</td>\n",
       "      <td>210338</td>\n",
       "      <td>9412</td>\n",
       "      <td>200926</td>\n",
       "      <td>679.285714</td>\n",
       "      <td>4.285714</td>\n",
       "      <td>675.000000</td>\n",
       "      <td>563</td>\n",
       "      <td>Tuesday</td>\n",
       "      <td>89</td>\n",
       "      <td>675.000000</td>\n",
       "      <td>679.285714</td>\n",
       "      <td>4.285714</td>\n",
       "    </tr>\n",
       "    <tr>\n",
       "      <th>89</th>\n",
       "      <td>2020-07-29</td>\n",
       "      <td>211114</td>\n",
       "      <td>9418</td>\n",
       "      <td>201696</td>\n",
       "      <td>694.000000</td>\n",
       "      <td>6.000000</td>\n",
       "      <td>688.000000</td>\n",
       "      <td>919</td>\n",
       "      <td>Wednesday</td>\n",
       "      <td>90</td>\n",
       "      <td>688.000000</td>\n",
       "      <td>694.000000</td>\n",
       "      <td>6.000000</td>\n",
       "    </tr>\n",
       "    <tr>\n",
       "      <th>90</th>\n",
       "      <td>2020-07-30</td>\n",
       "      <td>211868</td>\n",
       "      <td>9423</td>\n",
       "      <td>202445</td>\n",
       "      <td>709.285714</td>\n",
       "      <td>5.714286</td>\n",
       "      <td>703.571429</td>\n",
       "      <td>940</td>\n",
       "      <td>Thursday</td>\n",
       "      <td>91</td>\n",
       "      <td>703.571429</td>\n",
       "      <td>709.285714</td>\n",
       "      <td>5.714286</td>\n",
       "    </tr>\n",
       "    <tr>\n",
       "      <th>91</th>\n",
       "      <td>2020-07-31</td>\n",
       "      <td>212712</td>\n",
       "      <td>9438</td>\n",
       "      <td>203274</td>\n",
       "      <td>749.833333</td>\n",
       "      <td>6.000000</td>\n",
       "      <td>743.833333</td>\n",
       "      <td>996</td>\n",
       "      <td>Friday</td>\n",
       "      <td>92</td>\n",
       "      <td>743.833333</td>\n",
       "      <td>749.833333</td>\n",
       "      <td>6.000000</td>\n",
       "    </tr>\n",
       "    <tr>\n",
       "      <th>92</th>\n",
       "      <td>2020-08-01</td>\n",
       "      <td>213410</td>\n",
       "      <td>9439</td>\n",
       "      <td>203971</td>\n",
       "      <td>761.000000</td>\n",
       "      <td>5.800000</td>\n",
       "      <td>755.200000</td>\n",
       "      <td>1066</td>\n",
       "      <td>Saturday</td>\n",
       "      <td>93</td>\n",
       "      <td>755.200000</td>\n",
       "      <td>761.000000</td>\n",
       "      <td>5.800000</td>\n",
       "    </tr>\n",
       "  </tbody>\n",
       "</table>\n",
       "<p>93 rows × 13 columns</p>\n",
       "</div>"
      ],
      "text/plain": [
       "         Date  Confirmed  Deaths  Recovered  n_confirmed    n_death  \\\n",
       "0  2020-05-01     166468    8602     157866   428.333333  16.000000   \n",
       "1  2020-05-02     167160    8626     158534   529.250000  22.750000   \n",
       "2  2020-05-03     167753    8650     159103   602.600000  25.800000   \n",
       "3  2020-05-04     168585    8693     159892   654.666667  25.833333   \n",
       "4  2020-05-05     169481    8731     160750   682.000000  27.285714   \n",
       "..        ...        ...     ...        ...          ...        ...   \n",
       "88 2020-07-28     210338    9412     200926   679.285714   4.285714   \n",
       "89 2020-07-29     211114    9418     201696   694.000000   6.000000   \n",
       "90 2020-07-30     211868    9423     202445   709.285714   5.714286   \n",
       "91 2020-07-31     212712    9438     203274   749.833333   6.000000   \n",
       "92 2020-08-01     213410    9439     203971   761.000000   5.800000   \n",
       "\n",
       "    n_recovered  Infection_case  date_name  days  rolling_mean_r  \\\n",
       "0    412.333333             915     Friday     1      412.333333   \n",
       "1    506.500000             846   Saturday     2      506.500000   \n",
       "2    576.800000             805     Sunday     3      576.800000   \n",
       "3    628.833333             607     Monday     4      628.833333   \n",
       "4    654.714286             447    Tuesday     5      654.714286   \n",
       "..          ...             ...        ...   ...             ...   \n",
       "88   675.000000             563    Tuesday    89      675.000000   \n",
       "89   688.000000             919  Wednesday    90      688.000000   \n",
       "90   703.571429             940   Thursday    91      703.571429   \n",
       "91   743.833333             996     Friday    92      743.833333   \n",
       "92   755.200000            1066   Saturday    93      755.200000   \n",
       "\n",
       "    rolling_mean_c  rolling_mean_d  \n",
       "0       428.333333       16.000000  \n",
       "1       529.250000       22.750000  \n",
       "2       602.600000       25.800000  \n",
       "3       654.666667       25.833333  \n",
       "4       682.000000       27.285714  \n",
       "..             ...             ...  \n",
       "88      679.285714        4.285714  \n",
       "89      694.000000        6.000000  \n",
       "90      709.285714        5.714286  \n",
       "91      749.833333        6.000000  \n",
       "92      761.000000        5.800000  \n",
       "\n",
       "[93 rows x 13 columns]"
      ]
     },
     "execution_count": 59,
     "metadata": {},
     "output_type": "execute_result"
    }
   ],
   "source": [
    "#Convert 'Date' column to datetime format----------------------------------------------------------------------\n",
    "df['Date'] = pd.to_datetime(df['Date'], format='%Y-%m-%d')\n",
    "\n",
    "# Modification------------------------------------------------------------------------------\n",
    "# Add the 'days' column\n",
    "df = add_day_name_column(df)\n",
    "df = add_date_name_column(df)\n",
    "# second modification with w7_l-----------------------------------------------------------------------------\n",
    "df_observed = smooth_sundays_rolling_w7_l(df)\n",
    "df_observed\n",
    "# -----------------------------------------------------------------------------------------------------"
   ]
  },
  {
   "cell_type": "code",
   "execution_count": 80,
   "id": "b2cfa090",
   "metadata": {},
   "outputs": [],
   "source": [
    "# Taking 'days' time column from dataframe\n",
    "t_fit = np.array(df_observed['days'])\n",
    "#tmax_base = len(t_fit_base)\n",
    "tmax = max(t_fit)\n",
    "t = np.linspace(0,tmax,tmax*2)# 0.5 days maybe\n",
    "array_dead = np.array(df_observed['n_death'])"
   ]
  },
  {
   "cell_type": "markdown",
   "id": "120bbe15",
   "metadata": {},
   "source": [
    "### derivative equation for the flowchart"
   ]
  },
  {
   "cell_type": "code",
   "execution_count": 61,
   "id": "ef684ab2",
   "metadata": {},
   "outputs": [],
   "source": [
    "def derivative_rhs(t, initial_conditions, contacts, transmission_prob, total_population, reducing_transmission,\n",
    "                   exposed_period, asymptomatic_period, infectious_period, isolated_period,\n",
    "                   prob_asymptomatic, prob_quarant_inf, test_asy, dev_symp, mortality_isolated, mortality_infected):\n",
    "    S, E, A, I, F, R, D = initial_conditions\n",
    "    derivS = - contacts * transmission_prob * S * (I + reducing_transmission * A) / total_population\n",
    "    derivE = contacts * transmission_prob * S * (I + reducing_transmission * A) / total_population - E / exposed_period\n",
    "    derivA = prob_asymptomatic * E / exposed_period - A / asymptomatic_period\n",
    "    derivI = (\n",
    "                         1 - prob_asymptomatic) * E / exposed_period + dev_symp * A / asymptomatic_period - I / infectious_period  # +\n",
    "    derivF = prob_quarant_inf * I / infectious_period - F / isolated_period + test_asy * A / asymptomatic_period  # prob_isolated_asy*A/asymptomatic_period\n",
    "    derivR = (1 - prob_quarant_inf - mortality_infected) * I / infectious_period + (\n",
    "                1 - mortality_isolated) * F / isolated_period + (\n",
    "                         1 - dev_symp - test_asy) * A / asymptomatic_period  # (1-prob_isolated_asy)*A / asymptomatic_period\n",
    "    derivD = (mortality_infected) * I / infectious_period + mortality_isolated * F / isolated_period\n",
    "    return np.array([derivS, derivE, derivA, derivI, derivF, derivR, derivD])"
   ]
  },
  {
   "cell_type": "code",
   "execution_count": 104,
   "id": "1931ed7b",
   "metadata": {},
   "outputs": [],
   "source": [
    "def seaifrd_model(t, contacts, initial_conditions, transmission_prob, total_population, reducing_transmission,\n",
    "                  exposed_period, asymptomatic_period, infectious_period, isolated_period,\n",
    "                  prob_asymptomatic, prob_quarant_inf, test_asy, dev_symp, mortality_isolated, mortality_infected):\n",
    "    def derivative(t, initial_conditions):\n",
    "        return derivative_rhs(t, initial_conditions, contacts, transmission_prob, total_population,\n",
    "                              reducing_transmission,\n",
    "                              exposed_period, asymptomatic_period, infectious_period,\n",
    "                              isolated_period, prob_asymptomatic,\n",
    "                              prob_quarant_inf, test_asy, dev_symp, mortality_isolated, mortality_infected)\n",
    "\n",
    "    solution = solve_ivp(derivative, [0, tmax], y0=initial_conditions, method='RK45',t_eval=t)#t_eval=x[:,0]\n",
    "    #print(solution)\n",
    "    return solution  # .y.flatten()"
   ]
  },
  {
   "cell_type": "code",
   "execution_count": 105,
   "id": "47e73f59",
   "metadata": {},
   "outputs": [],
   "source": [
    "def objective_function_recoverd_dead(t,isolated_period):\n",
    "\n",
    "    # Model parameters (could be passed as arguments or fixed here)\n",
    "    contacts = 2\n",
    "    transmission_prob = 0.3\n",
    "    total_population = 82000000\n",
    "    reducing_transmission = 0.55\n",
    "    exposed_period = 5.2\n",
    "    asymptomatic_period = 7\n",
    "    infectious_period = 3.7\n",
    "    #isolated_period = 12\n",
    "    prob_asymptomatic = 0.34\n",
    "    prob_quarant_inf = 0.9303\n",
    "    test_asy = 0.271\n",
    "    dev_symp = 0.125\n",
    "    mortality_isolated = 0.02\n",
    "    mortality_infected = 0.1\n",
    "\n",
    "    # Solve the model\n",
    "    #sorted(set(t))\n",
    "    solution = seaifrd_model(t, contacts, initial_conditions, transmission_prob, total_population, reducing_transmission,\n",
    "                             exposed_period, asymptomatic_period, infectious_period, isolated_period,\n",
    "                             prob_asymptomatic, prob_quarant_inf, test_asy, dev_symp, mortality_isolated, mortality_infected)\n",
    "\n",
    "    #print(solution)\n",
    "    recovered = solution.y[5]\n",
    "    \n",
    "    return recovered\n"
   ]
  },
  {
   "cell_type": "code",
   "execution_count": 157,
   "id": "cd6d97c6",
   "metadata": {},
   "outputs": [],
   "source": [
    "def objective_function_dead(t,contacts):\n",
    "    \n",
    "    # Model parameters (could be passed as arguments or fixed here)\n",
    "    #contacts = 2\n",
    "    transmission_prob = 0.3\n",
    "    total_population = 82000000\n",
    "    reducing_transmission = 0.55\n",
    "    exposed_period = 5.2\n",
    "    asymptomatic_period = 7\n",
    "    infectious_period = 3.7\n",
    "    isolated_period = 12\n",
    "    prob_asymptomatic = 0.34\n",
    "    prob_quarant_inf = 0.9303\n",
    "    test_asy = 0.271\n",
    "    dev_symp = 0.125\n",
    "    mortality_isolated = 0.02\n",
    "    mortality_infected = 0.1\n",
    "\n",
    "    # Solve the model\n",
    "    #sorted(set(t))\n",
    "    solution = seaifrd_model(t, contacts, initial_conditions, transmission_prob, total_population, reducing_transmission,\n",
    "                             exposed_period, asymptomatic_period, infectious_period, isolated_period,\n",
    "                             prob_asymptomatic, prob_quarant_inf, test_asy, dev_symp, mortality_isolated, mortality_infected)\n",
    "\n",
    "    #print(solution)\n",
    "    #dead = solution.y[6]\n",
    "    \n",
    "\n",
    "    return solution.y[5]\n"
   ]
  },
  {
   "cell_type": "code",
   "execution_count": 158,
   "id": "a3cb19f5",
   "metadata": {},
   "outputs": [],
   "source": [
    "### Calling curve_fit Function"
   ]
  },
  {
   "cell_type": "code",
   "execution_count": 159,
   "id": "e2f825a7",
   "metadata": {},
   "outputs": [],
   "source": [
    "#t_end = df_observed['days'].iloc[-1]\n",
    "#print(f't_end = {(t_end)}, t_fit = {len(t_fit)}')\n",
    "# Create a sequence from 0 to t_end\n",
    "#t_fit = np.arange(0, 2*tmax, 1)\n",
    "\n",
    "popt, pcov = curve_fit(objective_function_dead, t_fit, array_dead)\n"
   ]
  },
  {
   "cell_type": "code",
   "execution_count": 160,
   "id": "c87bfff5",
   "metadata": {},
   "outputs": [
    {
     "data": {
      "text/plain": [
       "array([-794.30992834])"
      ]
     },
     "execution_count": 160,
     "metadata": {},
     "output_type": "execute_result"
    }
   ],
   "source": [
    "popt"
   ]
  },
  {
   "cell_type": "code",
   "execution_count": 161,
   "id": "e5589128",
   "metadata": {},
   "outputs": [
    {
     "data": {
      "text/plain": [
       "array([925520.22618997])"
      ]
     },
     "execution_count": 161,
     "metadata": {},
     "output_type": "execute_result"
    }
   ],
   "source": [
    "perr_r_d = np.sqrt(np.diag(pcov))\n",
    "perr_r_d"
   ]
  },
  {
   "cell_type": "code",
   "execution_count": 162,
   "id": "893d3f86",
   "metadata": {},
   "outputs": [],
   "source": [
    "### regarding for the curve_fitting; do we need to find the first derivation for the data for the dead and recovered before \n",
    "#  we apply curve fit?"
   ]
  },
  {
   "cell_type": "code",
   "execution_count": 163,
   "id": "fa5da684",
   "metadata": {},
   "outputs": [
    {
     "data": {
      "text/plain": [
       "array([170698.59662193, 170790.86621406, 170882.49731404, 170973.57631989,\n",
       "       171064.18923501, 171154.421881  , 171244.35869779, 171334.08274116,\n",
       "       171423.67568265, 171513.21780959, 171602.78802513, 171692.46384818,\n",
       "       171782.32141347, 171872.43547152, 171962.87938864, 172053.72699269,\n",
       "       172145.05486217, 172236.93493343, 172329.43838488, 172422.63590393,\n",
       "       172516.59768698, 172611.39343946, 172707.09237577, 172803.76321933,\n",
       "       172901.47420256, 173000.29306688, 173100.2870627 , 173201.52294945,\n",
       "       173304.06699555, 173407.98497842, 173513.34350359, 173620.21436948,\n",
       "       173728.66214976, 173838.75060751, 173950.54398277, 174064.10699247,\n",
       "       174179.50483044, 174296.80316744, 174416.0681511 , 174537.36640601,\n",
       "       174660.76503363, 174786.33161234, 174914.13419743, 175044.24132109,\n",
       "       175176.72199244, 175311.64569749, 175449.08239915, 175589.10253726,\n",
       "       175731.77702856, 175877.1772667 , 176025.37512223, 176176.44588586,\n",
       "       176330.47514561, 176487.53380553, 176647.69211028, 176811.02190465,\n",
       "       176977.59663353, 177147.49134193, 177320.78267497, 177497.54887788,\n",
       "       177677.86979599, 177861.82687474, 178049.50315971, 178240.98329657,\n",
       "       178436.35353108, 178635.70170916, 178839.11727679, 179046.6912801 ,\n",
       "       179258.51636531, 179474.68677876, 179695.29836689, 179920.44857626,\n",
       "       180150.23645353, 180384.7626455 , 180624.12939905, 180868.44056118,\n",
       "       181117.801579  , 181372.31949973, 181632.10297072, 181897.2622394 ,\n",
       "       182167.90915333, 182444.16202236, 182726.17103708, 183014.05115147,\n",
       "       183307.91166307, 183607.8654503 , 183914.02897246, 184226.52226976,\n",
       "       184545.46896325, 184870.99625488, 185203.23492748, 185542.31934477,\n",
       "       185888.38745133, 186241.58077264, 186602.04441505, 186969.92706579,\n",
       "       187345.38099298, 187728.56204562, 188119.62965359, 188518.74682763])"
      ]
     },
     "execution_count": 163,
     "metadata": {},
     "output_type": "execute_result"
    }
   ],
   "source": [
    "y_ = objective_function_dead(t,contacts)\n",
    "\n",
    "y_[:190]"
   ]
  },
  {
   "cell_type": "code",
   "execution_count": 164,
   "id": "603063b3",
   "metadata": {
    "scrolled": true
   },
   "outputs": [
    {
     "data": {
      "image/png": "[encoded data removed]",
      "text/plain": [
       "<Figure size 1200x400 with 1 Axes>"
      ]
     },
     "metadata": {},
     "output_type": "display_data"
    }
   ],
   "source": [
    "t= np.linspace(1,20,100)\n",
    "\n",
    "fig, ax = plt.subplots(1,1, figsize=(12,4))\n",
    "plt.plot(t,y_[:100],'--')\n",
    "ax.set_xlabel('days')\n",
    "ax.set_ylabel('number')\n",
    "plt.show()"
   ]
  },
  {
   "cell_type": "code",
   "execution_count": 146,
   "id": "ebd510dd",
   "metadata": {},
   "outputs": [
    {
     "data": {
      "text/plain": [
       "(186,)"
      ]
     },
     "execution_count": 146,
     "metadata": {},
     "output_type": "execute_result"
    }
   ],
   "source": [
    "y_0 = y_[0:]\n",
    "y_0.shape"
   ]
  },
  {
   "cell_type": "code",
   "execution_count": null,
   "id": "dad7aa31",
   "metadata": {},
   "outputs": [],
   "source": []
  }
 ],
 "metadata": {
  "kernelspec": {
   "display_name": "Python 3 (ipykernel)",
   "language": "python",
   "name": "python3"
  },
  "language_info": {
   "codemirror_mode": {
    "name": "ipython",
    "version": 3
   },
   "file_extension": ".py",
   "mimetype": "text/x-python",
   "name": "python",
   "nbconvert_exporter": "python",
   "pygments_lexer": "ipython3",
   "version": "3.10.9"
  }
 },
 "nbformat": 4,
 "nbformat_minor": 5
}
