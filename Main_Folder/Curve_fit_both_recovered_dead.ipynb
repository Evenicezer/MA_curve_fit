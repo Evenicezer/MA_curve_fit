{
 "cells": [
  {
   "cell_type": "code",
   "id": "b23b692c",
   "metadata": {
    "ExecuteTime": {
     "end_time": "2024-10-08T13:28:22.258418Z",
     "start_time": "2024-10-08T13:28:20.815288Z"
    }
   },
   "source": [
    "from tarfile import data_filter\n",
    "\n",
    "import numpy as np\n",
    "import pandas as pd\n",
    "from scipy.integrate import solve_ivp\n",
    "from scipy.optimize import curve_fit\n",
    "import matplotlib.pyplot as plt\n",
    "from iprocessor import add_day_name_column, add_date_name_column, smooth_sundays_rolling_w7_l"
   ],
   "outputs": [],
   "execution_count": 1
  },
  {
   "cell_type": "markdown",
   "id": "a883df28",
   "metadata": {},
   "source": [
    "#### the python script iprocessor, smoothes the data by implementing moving average"
   ]
  },
  {
   "cell_type": "markdown",
   "id": "1405bbdb",
   "metadata": {},
   "source": [
    "## there is need for \n",
    "- parameters\n",
    "- initialization for the compartments"
   ]
  },
  {
   "cell_type": "code",
   "id": "1a5e0992",
   "metadata": {
    "ExecuteTime": {
     "end_time": "2024-10-08T13:28:24.743560Z",
     "start_time": "2024-10-08T13:28:24.712296Z"
    }
   },
   "source": [
    "# Sample parameters,\n",
    "contacts = 2.0\n",
    "transmission_prob = 0.3649\n",
    "reducing_transmission = 0.764\n",
    "exposed_period = 5.2  #\n",
    "asymptomatic_period = 7\n",
    "infectious_period = 3.7\n",
    "isolated_period = 11  # 11,23\n",
    "prob_asymptomatic = 0.2\n",
    "prob_quarant_inf = 0.05\n",
    "test_asy = 0.171\n",
    "dev_symp = 0.125\n",
    "mortality_isolated = 0.002\n",
    "mortality_infected = 0.01"
   ],
   "outputs": [],
   "execution_count": 2
  },
  {
   "cell_type": "code",
   "id": "3d040d0c",
   "metadata": {
    "ExecuteTime": {
     "end_time": "2024-10-08T13:28:27.516485Z",
     "start_time": "2024-10-08T13:28:27.484814Z"
    }
   },
   "source": [
    "total_population = 82_000_000  # Total number of individuals\n",
    "E0 = 2026.25\n",
    "A0 = 3798\n",
    "I0 = 376.4\n",
    "F0 = 2255\n",
    "R0 = 170204\n",
    "D0 = 9060\n",
    "S0 = total_population - E0 - A0 - I0 - F0 - R0 - D0\n",
    "initial_conditions = [S0, E0, A0, I0, F0, R0, D0]"
   ],
   "outputs": [],
   "execution_count": 3
  },
  {
   "cell_type": "markdown",
   "id": "03185466",
   "metadata": {},
   "source": [
    "### Dataframe"
   ]
  },
  {
   "cell_type": "code",
   "id": "e15e6ad3",
   "metadata": {
    "ExecuteTime": {
     "end_time": "2024-10-08T13:28:29.313867Z",
     "start_time": "2024-10-08T13:28:29.282211Z"
    }
   },
   "source": [
    "df = pd.read_csv(r'German_case_period_may_aug.csv')"
   ],
   "outputs": [],
   "execution_count": 4
  },
  {
   "cell_type": "code",
   "id": "790f0721",
   "metadata": {
    "ExecuteTime": {
     "end_time": "2024-10-08T13:28:30.411585Z",
     "start_time": "2024-10-08T13:28:30.311391Z"
    }
   },
   "source": [
    "#Convert 'Date' column to datetime format----------------------------------------------------------------------\n",
    "df['Date'] = pd.to_datetime(df['Date'], format='%Y-%m-%d')\n",
    "\n",
    "# Modification------------------------------------------------------------------------------\n",
    "# Add the 'days' column\n",
    "df = add_day_name_column(df)\n",
    "df = add_date_name_column(df)\n",
    "# second modification with w7_l-----------------------------------------------------------------------------\n",
    "df_observed = smooth_sundays_rolling_w7_l(df)\n",
    "df_observed\n",
    "# -----------------------------------------------------------------------------------------------------"
   ],
   "outputs": [
    {
     "data": {
      "text/plain": [
       "         Date  Confirmed  Deaths  Recovered  n_confirmed    n_death  \\\n",
       "0  2020-05-01     166468    8602     157866   428.333333  16.000000   \n",
       "1  2020-05-02     167160    8626     158534   529.250000  22.750000   \n",
       "2  2020-05-03     167753    8650     159103   602.600000  25.800000   \n",
       "3  2020-05-04     168585    8693     159892   654.666667  25.833333   \n",
       "4  2020-05-05     169481    8731     160750   682.000000  27.285714   \n",
       "..        ...        ...     ...        ...          ...        ...   \n",
       "88 2020-07-28     210338    9412     200926   679.285714   4.285714   \n",
       "89 2020-07-29     211114    9418     201696   694.000000   6.000000   \n",
       "90 2020-07-30     211868    9423     202445   709.285714   5.714286   \n",
       "91 2020-07-31     212712    9438     203274   749.833333   6.000000   \n",
       "92 2020-08-01     213410    9439     203971   761.000000   5.800000   \n",
       "\n",
       "    n_recovered  Infection_case  date_name  days  rolling_mean_r  \\\n",
       "0    412.333333             915     Friday     1      412.333333   \n",
       "1    506.500000             846   Saturday     2      506.500000   \n",
       "2    576.800000             805     Sunday     3      576.800000   \n",
       "3    628.833333             607     Monday     4      628.833333   \n",
       "4    654.714286             447    Tuesday     5      654.714286   \n",
       "..          ...             ...        ...   ...             ...   \n",
       "88   675.000000             563    Tuesday    89      675.000000   \n",
       "89   688.000000             919  Wednesday    90      688.000000   \n",
       "90   703.571429             940   Thursday    91      703.571429   \n",
       "91   743.833333             996     Friday    92      743.833333   \n",
       "92   755.200000            1066   Saturday    93      755.200000   \n",
       "\n",
       "    rolling_mean_c  rolling_mean_d  \n",
       "0       428.333333       16.000000  \n",
       "1       529.250000       22.750000  \n",
       "2       602.600000       25.800000  \n",
       "3       654.666667       25.833333  \n",
       "4       682.000000       27.285714  \n",
       "..             ...             ...  \n",
       "88      679.285714        4.285714  \n",
       "89      694.000000        6.000000  \n",
       "90      709.285714        5.714286  \n",
       "91      749.833333        6.000000  \n",
       "92      761.000000        5.800000  \n",
       "\n",
       "[93 rows x 13 columns]"
      ],
      "text/html": [
       "<div>\n",
       "<style scoped>\n",
       "    .dataframe tbody tr th:only-of-type {\n",
       "        vertical-align: middle;\n",
       "    }\n",
       "\n",
       "    .dataframe tbody tr th {\n",
       "        vertical-align: top;\n",
       "    }\n",
       "\n",
       "    .dataframe thead th {\n",
       "        text-align: right;\n",
       "    }\n",
       "</style>\n",
       "<table border=\"1\" class=\"dataframe\">\n",
       "  <thead>\n",
       "    <tr style=\"text-align: right;\">\n",
       "      <th></th>\n",
       "      <th>Date</th>\n",
       "      <th>Confirmed</th>\n",
       "      <th>Deaths</th>\n",
       "      <th>Recovered</th>\n",
       "      <th>n_confirmed</th>\n",
       "      <th>n_death</th>\n",
       "      <th>n_recovered</th>\n",
       "      <th>Infection_case</th>\n",
       "      <th>date_name</th>\n",
       "      <th>days</th>\n",
       "      <th>rolling_mean_r</th>\n",
       "      <th>rolling_mean_c</th>\n",
       "      <th>rolling_mean_d</th>\n",
       "    </tr>\n",
       "  </thead>\n",
       "  <tbody>\n",
       "    <tr>\n",
       "      <th>0</th>\n",
       "      <td>2020-05-01</td>\n",
       "      <td>166468</td>\n",
       "      <td>8602</td>\n",
       "      <td>157866</td>\n",
       "      <td>428.333333</td>\n",
       "      <td>16.000000</td>\n",
       "      <td>412.333333</td>\n",
       "      <td>915</td>\n",
       "      <td>Friday</td>\n",
       "      <td>1</td>\n",
       "      <td>412.333333</td>\n",
       "      <td>428.333333</td>\n",
       "      <td>16.000000</td>\n",
       "    </tr>\n",
       "    <tr>\n",
       "      <th>1</th>\n",
       "      <td>2020-05-02</td>\n",
       "      <td>167160</td>\n",
       "      <td>8626</td>\n",
       "      <td>158534</td>\n",
       "      <td>529.250000</td>\n",
       "      <td>22.750000</td>\n",
       "      <td>506.500000</td>\n",
       "      <td>846</td>\n",
       "      <td>Saturday</td>\n",
       "      <td>2</td>\n",
       "      <td>506.500000</td>\n",
       "      <td>529.250000</td>\n",
       "      <td>22.750000</td>\n",
       "    </tr>\n",
       "    <tr>\n",
       "      <th>2</th>\n",
       "      <td>2020-05-03</td>\n",
       "      <td>167753</td>\n",
       "      <td>8650</td>\n",
       "      <td>159103</td>\n",
       "      <td>602.600000</td>\n",
       "      <td>25.800000</td>\n",
       "      <td>576.800000</td>\n",
       "      <td>805</td>\n",
       "      <td>Sunday</td>\n",
       "      <td>3</td>\n",
       "      <td>576.800000</td>\n",
       "      <td>602.600000</td>\n",
       "      <td>25.800000</td>\n",
       "    </tr>\n",
       "    <tr>\n",
       "      <th>3</th>\n",
       "      <td>2020-05-04</td>\n",
       "      <td>168585</td>\n",
       "      <td>8693</td>\n",
       "      <td>159892</td>\n",
       "      <td>654.666667</td>\n",
       "      <td>25.833333</td>\n",
       "      <td>628.833333</td>\n",
       "      <td>607</td>\n",
       "      <td>Monday</td>\n",
       "      <td>4</td>\n",
       "      <td>628.833333</td>\n",
       "      <td>654.666667</td>\n",
       "      <td>25.833333</td>\n",
       "    </tr>\n",
       "    <tr>\n",
       "      <th>4</th>\n",
       "      <td>2020-05-05</td>\n",
       "      <td>169481</td>\n",
       "      <td>8731</td>\n",
       "      <td>160750</td>\n",
       "      <td>682.000000</td>\n",
       "      <td>27.285714</td>\n",
       "      <td>654.714286</td>\n",
       "      <td>447</td>\n",
       "      <td>Tuesday</td>\n",
       "      <td>5</td>\n",
       "      <td>654.714286</td>\n",
       "      <td>682.000000</td>\n",
       "      <td>27.285714</td>\n",
       "    </tr>\n",
       "    <tr>\n",
       "      <th>...</th>\n",
       "      <td>...</td>\n",
       "      <td>...</td>\n",
       "      <td>...</td>\n",
       "      <td>...</td>\n",
       "      <td>...</td>\n",
       "      <td>...</td>\n",
       "      <td>...</td>\n",
       "      <td>...</td>\n",
       "      <td>...</td>\n",
       "      <td>...</td>\n",
       "      <td>...</td>\n",
       "      <td>...</td>\n",
       "      <td>...</td>\n",
       "    </tr>\n",
       "    <tr>\n",
       "      <th>88</th>\n",
       "      <td>2020-07-28</td>\n",
       "      <td>210338</td>\n",
       "      <td>9412</td>\n",
       "      <td>200926</td>\n",
       "      <td>679.285714</td>\n",
       "      <td>4.285714</td>\n",
       "      <td>675.000000</td>\n",
       "      <td>563</td>\n",
       "      <td>Tuesday</td>\n",
       "      <td>89</td>\n",
       "      <td>675.000000</td>\n",
       "      <td>679.285714</td>\n",
       "      <td>4.285714</td>\n",
       "    </tr>\n",
       "    <tr>\n",
       "      <th>89</th>\n",
       "      <td>2020-07-29</td>\n",
       "      <td>211114</td>\n",
       "      <td>9418</td>\n",
       "      <td>201696</td>\n",
       "      <td>694.000000</td>\n",
       "      <td>6.000000</td>\n",
       "      <td>688.000000</td>\n",
       "      <td>919</td>\n",
       "      <td>Wednesday</td>\n",
       "      <td>90</td>\n",
       "      <td>688.000000</td>\n",
       "      <td>694.000000</td>\n",
       "      <td>6.000000</td>\n",
       "    </tr>\n",
       "    <tr>\n",
       "      <th>90</th>\n",
       "      <td>2020-07-30</td>\n",
       "      <td>211868</td>\n",
       "      <td>9423</td>\n",
       "      <td>202445</td>\n",
       "      <td>709.285714</td>\n",
       "      <td>5.714286</td>\n",
       "      <td>703.571429</td>\n",
       "      <td>940</td>\n",
       "      <td>Thursday</td>\n",
       "      <td>91</td>\n",
       "      <td>703.571429</td>\n",
       "      <td>709.285714</td>\n",
       "      <td>5.714286</td>\n",
       "    </tr>\n",
       "    <tr>\n",
       "      <th>91</th>\n",
       "      <td>2020-07-31</td>\n",
       "      <td>212712</td>\n",
       "      <td>9438</td>\n",
       "      <td>203274</td>\n",
       "      <td>749.833333</td>\n",
       "      <td>6.000000</td>\n",
       "      <td>743.833333</td>\n",
       "      <td>996</td>\n",
       "      <td>Friday</td>\n",
       "      <td>92</td>\n",
       "      <td>743.833333</td>\n",
       "      <td>749.833333</td>\n",
       "      <td>6.000000</td>\n",
       "    </tr>\n",
       "    <tr>\n",
       "      <th>92</th>\n",
       "      <td>2020-08-01</td>\n",
       "      <td>213410</td>\n",
       "      <td>9439</td>\n",
       "      <td>203971</td>\n",
       "      <td>761.000000</td>\n",
       "      <td>5.800000</td>\n",
       "      <td>755.200000</td>\n",
       "      <td>1066</td>\n",
       "      <td>Saturday</td>\n",
       "      <td>93</td>\n",
       "      <td>755.200000</td>\n",
       "      <td>761.000000</td>\n",
       "      <td>5.800000</td>\n",
       "    </tr>\n",
       "  </tbody>\n",
       "</table>\n",
       "<p>93 rows × 13 columns</p>\n",
       "</div>"
      ]
     },
     "execution_count": 5,
     "metadata": {},
     "output_type": "execute_result"
    }
   ],
   "execution_count": 5
  },
  {
   "metadata": {
    "ExecuteTime": {
     "end_time": "2024-10-08T14:32:13.899283Z",
     "start_time": "2024-10-08T14:32:13.883201Z"
    }
   },
   "cell_type": "code",
   "source": "df_observed=df_observed[19:]",
   "id": "757c840906ff9864",
   "outputs": [],
   "execution_count": 127
  },
  {
   "cell_type": "code",
   "id": "fc372a1b",
   "metadata": {
    "ExecuteTime": {
     "end_time": "2024-10-08T14:39:43.350221Z",
     "start_time": "2024-10-08T14:39:43.334593Z"
    }
   },
   "source": [
    "# Taking 'days' time column from dataframe\n",
    "t_fit_base = np.array(df_observed['days'])-20\n",
    "print(t_fit_base)\n",
    "tmax_base = len(t_fit_base)\n",
    "print(f'{tmax_base}  time_base')\n",
    "#time\n",
    "t_fit_0 = np.zeros((tmax_base,2))\n",
    "t_fit_0[:,0] = t_fit_base\n",
    "t_fit_0[:,1] = 1\n",
    "#\n",
    "t_fit_1 = np.zeros((tmax_base,2))\n",
    "t_fit_1[:,0] = t_fit_base\n",
    "t_fit_1[:,1] = 0\n",
    "#\n",
    "t_fit = np.r_[t_fit_0,t_fit_1]\n",
    "x= np.r_[t_fit_0,t_fit_1]\n",
    "print(f'{len(t_fit)}   t_fit')\n",
    "#\n",
    "tmax = len(t_fit)\n",
    "\n",
    "\n",
    "# for t_eval in the solve_ivp\n",
    "times = np.linspace(1,tmax,tmax+100)\n"
   ],
   "outputs": [
    {
     "name": "stdout",
     "output_type": "stream",
     "text": [
      "[ 0  1  2  3  4  5  6  7  8  9 10 11 12 13 14 15 16 17 18 19 20 21 22 23\n",
      " 24 25 26 27 28 29 30 31 32 33 34 35 36 37 38 39 40 41 42 43 44 45 46 47\n",
      " 48 49 50 51 52 53 54 55 56 57 58 59 60 61 62 63 64 65 66 67 68 69 70 71\n",
      " 72 73]\n",
      "74  time_base\n",
      "148   t_fit\n"
     ]
    }
   ],
   "execution_count": 158
  },
  {
   "cell_type": "markdown",
   "id": "4e9fe961",
   "metadata": {},
   "source": [
    "### derivative equation for the flowchart"
   ]
  },
  {
   "cell_type": "code",
   "id": "044875ef",
   "metadata": {
    "ExecuteTime": {
     "end_time": "2024-10-08T14:39:48.528433Z",
     "start_time": "2024-10-08T14:39:48.512848Z"
    }
   },
   "source": [
    "def derivative_rhs(x, X, contacts, transmission_prob, total_population, reducing_transmission,\n",
    "                   exposed_period, asymptomatic_period, infectious_period, isolated_period,\n",
    "                   prob_asymptomatic, prob_quarant_inf, test_asy, dev_symp, mortality_isolated, mortality_infected):\n",
    "    S, E, A, I, F, R, D = X\n",
    "    derivS = - contacts * transmission_prob * S * (I + reducing_transmission * A) / total_population\n",
    "    derivE = contacts * transmission_prob * S * (I + reducing_transmission * A) / total_population - E / exposed_period\n",
    "    derivA = prob_asymptomatic * E / exposed_period - A / asymptomatic_period\n",
    "    derivI = (\n",
    "                         1 - prob_asymptomatic) * E / exposed_period + dev_symp * A / asymptomatic_period - I / infectious_period  # +\n",
    "    derivF = prob_quarant_inf * I / infectious_period - F / isolated_period + test_asy * A / asymptomatic_period  # prob_isolated_asy*A/asymptomatic_period\n",
    "    derivR = (1 - prob_quarant_inf - mortality_infected) * I / infectious_period + (\n",
    "                1 - mortality_isolated) * F / isolated_period + (\n",
    "                         1 - dev_symp - test_asy) * A / asymptomatic_period  # (1-prob_isolated_asy)*A / asymptomatic_period\n",
    "    derivD = (mortality_infected) * I / infectious_period + mortality_isolated * F / isolated_period\n",
    "    return [derivS, derivE, derivA, derivI, derivF, derivR, derivD]"
   ],
   "outputs": [],
   "execution_count": 159
  },
  {
   "cell_type": "code",
   "id": "eba29d52",
   "metadata": {
    "ExecuteTime": {
     "end_time": "2024-10-08T14:39:49.153787Z",
     "start_time": "2024-10-08T14:39:49.134788Z"
    }
   },
   "source": [
    "def seaifrd_model_tmax(tmax, contacts, initial_conditions, transmission_prob, total_population, reducing_transmission,\n",
    "                  exposed_period, asymptomatic_period, infectious_period, isolated_period,\n",
    "                  prob_asymptomatic, prob_quarant_inf, test_asy, dev_symp, mortality_isolated, mortality_infected):\n",
    "    def derivative(x, initial_conditions):\n",
    "        return derivative_rhs(x, initial_conditions, contacts, transmission_prob, total_population,\n",
    "                              reducing_transmission,\n",
    "                              exposed_period, asymptomatic_period, infectious_period,\n",
    "                              isolated_period, prob_asymptomatic,\n",
    "                              prob_quarant_inf, test_asy, dev_symp, mortality_isolated, mortality_infected)\n",
    "\n",
    "    tmax = int(tmax)\n",
    "    times = np.linspace(0,tmax,tmax+1)\n",
    "    solution = solve_ivp(derivative, (0, tmax), initial_conditions, method='RK45',t_eval=times)\n",
    "    #print(solution)\n",
    "    return solution  # .y.flatten()"
   ],
   "outputs": [],
   "execution_count": 160
  },
  {
   "metadata": {
    "ExecuteTime": {
     "end_time": "2024-10-08T14:39:50.435590Z",
     "start_time": "2024-10-08T14:39:50.419931Z"
    }
   },
   "cell_type": "code",
   "source": "",
   "id": "e3bf9458fb646431",
   "outputs": [],
   "execution_count": null
  },
  {
   "metadata": {
    "ExecuteTime": {
     "end_time": "2024-10-08T14:39:50.929786Z",
     "start_time": "2024-10-08T14:39:50.898541Z"
    }
   },
   "cell_type": "code",
   "source": [
    "def seaifrd_model(x, contacts, initial_conditions, transmission_prob, total_population, reducing_transmission,\n",
    "                  exposed_period, asymptomatic_period, infectious_period, isolated_period,\n",
    "                  prob_asymptomatic, prob_quarant_inf, test_asy, dev_symp, mortality_isolated, mortality_infected):\n",
    "    def derivative(x, initial_conditions):\n",
    "        return derivative_rhs(x, initial_conditions, contacts, transmission_prob, total_population,\n",
    "                              reducing_transmission,\n",
    "                              exposed_period, asymptomatic_period, infectious_period,\n",
    "                              isolated_period, prob_asymptomatic,\n",
    "                              prob_quarant_inf, test_asy, dev_symp, mortality_isolated, mortality_infected)\n",
    "\n",
    "    \n",
    "    solution = solve_ivp(derivative, (0, tmax), initial_conditions, method='RK45',t_eval=times)\n",
    "    #print(solution)\n",
    "    return solution  # .y.flatten()"
   ],
   "id": "b6c84314f5fbebfb",
   "outputs": [],
   "execution_count": 161
  },
  {
   "metadata": {
    "ExecuteTime": {
     "end_time": "2024-10-08T14:39:51.444079Z",
     "start_time": "2024-10-08T14:39:51.412281Z"
    }
   },
   "cell_type": "code",
   "source": [
    "contacts = 2\n",
    "transmission_prob = 0.3\n",
    "total_population = 82000000\n",
    "reducing_transmission = 0.55\n",
    "exposed_period = 5.2\n",
    "asymptomatic_period = 7\n",
    "infectious_period = 3.7\n",
    "isolated_period = 12\n",
    "prob_asymptomatic = 0.34\n",
    "prob_quarant_inf = 0.9303\n",
    "test_asy = 0.271\n",
    "dev_symp = 0.125\n",
    "mortality_isolated = 0.02\n",
    "mortality_infected = 0.1\n",
    "\n",
    "# Solve the model\n",
    "#t = t[:len(t)//2] #sorted(set(t))\n",
    "solution = seaifrd_model_tmax(2, contacts, initial_conditions, transmission_prob, total_population, reducing_transmission,\n",
    "                         exposed_period, asymptomatic_period, infectious_period, isolated_period,\n",
    "                         prob_asymptomatic, prob_quarant_inf, test_asy, dev_symp, mortality_isolated, mortality_infected)\n",
    "solution.y[6]"
   ],
   "id": "11b311da75c9e080",
   "outputs": [
    {
     "data": {
      "text/plain": [
       "array([9060.        , 9077.27786342, 9102.11877099])"
      ]
     },
     "execution_count": 162,
     "metadata": {},
     "output_type": "execute_result"
    }
   ],
   "execution_count": 162
  },
  {
   "cell_type": "code",
   "id": "14fefd0d",
   "metadata": {
    "ExecuteTime": {
     "end_time": "2024-10-08T14:44:02.445128Z",
     "start_time": "2024-10-08T14:44:02.413886Z"
    }
   },
   "source": [
    "def objective_function_recoverd_dead(X,isolated_period):\n",
    "    t = X[:, 0]\n",
    "    mode = X[:, 1]\n",
    "    tmax = max(t)\n",
    "    # Model parameters (could be passed as arguments or fixed here)\n",
    "    contacts = 1.1\n",
    "    transmission_prob = 0.3\n",
    "    total_population = 82_000_000\n",
    "    reducing_transmission = 0.55\n",
    "    exposed_period = 5.2\n",
    "    asymptomatic_period = 7\n",
    "    infectious_period = 3.7\n",
    "    #isolated_period = 12\n",
    "    prob_asymptomatic = 0.34\n",
    "    prob_quarant_inf = 0.9303\n",
    "    test_asy = 0.271\n",
    "    dev_symp = 0.125\n",
    "    mortality_isolated = 0.02\n",
    "    mortality_infected = 0.1\n",
    "\n",
    "    contacts = 0.5\n",
    "    transmission_prob = 0.3\n",
    "    total_population = 82000000\n",
    "    reducing_transmission = 0.55\n",
    "    exposed_period = 5.2\n",
    "    asymptomatic_period = 7\n",
    "    infectious_period = 3.7\n",
    "    #isolated_period = 12\n",
    "    prob_asymptomatic = 0.34\n",
    "    prob_quarant_inf = 0.9303\n",
    "    test_asy = 0.271\n",
    "    dev_symp = 0.125\n",
    "    mortality_isolated = 0.02\n",
    "    mortality_infected = 0.1\n",
    "\n",
    "    # Solve the model\n",
    "    #t = t[:len(t)//2] #sorted(set(t))\n",
    "    solution = seaifrd_model_tmax(tmax, contacts, initial_conditions, transmission_prob, total_population, reducing_transmission,\n",
    "                             exposed_period, asymptomatic_period, infectious_period, isolated_period,\n",
    "                             prob_asymptomatic, prob_quarant_inf, test_asy, dev_symp, mortality_isolated, mortality_infected)\n",
    "\n",
    "    #print(solution)\n",
    "    time = solution.t\n",
    "    recovered = solution.y[5]\n",
    "    #recovered = np.concatenate((recovered,recovered))\n",
    "    dead = solution.y[6]\n",
    "    #dead = np.concatenate((dead,dead))\n",
    "    retval = []\n",
    "    #print(recovered.shape)\n",
    "    #retval = np.where(mode, recovered, dead)\n",
    "    for t,mode in zip(t,mode):\n",
    "        if mode:\n",
    "            retval.append(recovered[int(t)])\n",
    "        else:\n",
    "            retval.append(dead[int(t)])\n",
    "    return np.array(retval)\n"
   ],
   "outputs": [],
   "execution_count": 235
  },
  {
   "cell_type": "code",
   "id": "6c0cb240",
   "metadata": {
    "ExecuteTime": {
     "end_time": "2024-10-08T14:44:02.965944Z",
     "start_time": "2024-10-08T14:44:02.949926Z"
    }
   },
   "source": [
    "# here we have to make the length for the recovered and the dead twice!"
   ],
   "outputs": [],
   "execution_count": 236
  },
  {
   "cell_type": "code",
   "id": "b3aef5cb",
   "metadata": {
    "ExecuteTime": {
     "end_time": "2024-10-08T14:44:03.425388Z",
     "start_time": "2024-10-08T14:44:03.394142Z"
    }
   },
   "source": [
    "data_recovered = np.ones((df_observed['n_recovered'].size,2))\n",
    "data_recovered[:,0] = df_observed['n_recovered']\n",
    "#\n",
    "data_dead = np.zeros((df_observed['n_death'].size,2))\n",
    "data_dead[:,0] = df_observed['n_death']\n",
    "recovered_dead = np.r_[data_recovered,data_dead]\n",
    "print(len(recovered_dead))\n",
    "print(recovered_dead.shape)"
   ],
   "outputs": [
    {
     "name": "stdout",
     "output_type": "stream",
     "text": [
      "148\n",
      "(148, 2)\n"
     ]
    }
   ],
   "execution_count": 237
  },
  {
   "metadata": {
    "ExecuteTime": {
     "end_time": "2024-10-08T14:44:03.914221Z",
     "start_time": "2024-10-08T14:44:03.898593Z"
    }
   },
   "cell_type": "code",
   "source": [
    "recovered_dead = np.r_[df_observed['n_recovered'],df_observed['n_death']]\n",
    "recovered_dead.shape"
   ],
   "id": "8d62b33df8930c73",
   "outputs": [
    {
     "data": {
      "text/plain": [
       "(148,)"
      ]
     },
     "execution_count": 238,
     "metadata": {},
     "output_type": "execute_result"
    }
   ],
   "execution_count": 238
  },
  {
   "cell_type": "code",
   "id": "b410bbe2",
   "metadata": {
    "ExecuteTime": {
     "end_time": "2024-10-08T14:44:04.514423Z",
     "start_time": "2024-10-08T14:44:04.497469Z"
    }
   },
   "source": [
    "#recovered_dead = np.concatenate((df_observed['n_death'],df_observed['n_recovered']))\n",
    "#print(len(recovered_dead))"
   ],
   "outputs": [],
   "execution_count": 239
  },
  {
   "cell_type": "code",
   "id": "1f1c401a",
   "metadata": {
    "ExecuteTime": {
     "end_time": "2024-10-08T14:44:04.974450Z",
     "start_time": "2024-10-08T14:44:04.942806Z"
    }
   },
   "source": [
    "### Calling curve_fit Function"
   ],
   "outputs": [],
   "execution_count": 240
  },
  {
   "metadata": {
    "ExecuteTime": {
     "end_time": "2024-10-08T14:44:05.422809Z",
     "start_time": "2024-10-08T14:44:05.391598Z"
    }
   },
   "cell_type": "code",
   "source": [
    "print(recovered_dead.shape)\n",
    "print(t_fit.shape)\n",
    "t_fit"
   ],
   "id": "530bc97b4b213dc7",
   "outputs": [
    {
     "name": "stdout",
     "output_type": "stream",
     "text": [
      "(148,)\n",
      "(148, 2)\n"
     ]
    },
    {
     "data": {
      "text/plain": [
       "array([[ 0.,  1.],\n",
       "       [ 1.,  1.],\n",
       "       [ 2.,  1.],\n",
       "       [ 3.,  1.],\n",
       "       [ 4.,  1.],\n",
       "       [ 5.,  1.],\n",
       "       [ 6.,  1.],\n",
       "       [ 7.,  1.],\n",
       "       [ 8.,  1.],\n",
       "       [ 9.,  1.],\n",
       "       [10.,  1.],\n",
       "       [11.,  1.],\n",
       "       [12.,  1.],\n",
       "       [13.,  1.],\n",
       "       [14.,  1.],\n",
       "       [15.,  1.],\n",
       "       [16.,  1.],\n",
       "       [17.,  1.],\n",
       "       [18.,  1.],\n",
       "       [19.,  1.],\n",
       "       [20.,  1.],\n",
       "       [21.,  1.],\n",
       "       [22.,  1.],\n",
       "       [23.,  1.],\n",
       "       [24.,  1.],\n",
       "       [25.,  1.],\n",
       "       [26.,  1.],\n",
       "       [27.,  1.],\n",
       "       [28.,  1.],\n",
       "       [29.,  1.],\n",
       "       [30.,  1.],\n",
       "       [31.,  1.],\n",
       "       [32.,  1.],\n",
       "       [33.,  1.],\n",
       "       [34.,  1.],\n",
       "       [35.,  1.],\n",
       "       [36.,  1.],\n",
       "       [37.,  1.],\n",
       "       [38.,  1.],\n",
       "       [39.,  1.],\n",
       "       [40.,  1.],\n",
       "       [41.,  1.],\n",
       "       [42.,  1.],\n",
       "       [43.,  1.],\n",
       "       [44.,  1.],\n",
       "       [45.,  1.],\n",
       "       [46.,  1.],\n",
       "       [47.,  1.],\n",
       "       [48.,  1.],\n",
       "       [49.,  1.],\n",
       "       [50.,  1.],\n",
       "       [51.,  1.],\n",
       "       [52.,  1.],\n",
       "       [53.,  1.],\n",
       "       [54.,  1.],\n",
       "       [55.,  1.],\n",
       "       [56.,  1.],\n",
       "       [57.,  1.],\n",
       "       [58.,  1.],\n",
       "       [59.,  1.],\n",
       "       [60.,  1.],\n",
       "       [61.,  1.],\n",
       "       [62.,  1.],\n",
       "       [63.,  1.],\n",
       "       [64.,  1.],\n",
       "       [65.,  1.],\n",
       "       [66.,  1.],\n",
       "       [67.,  1.],\n",
       "       [68.,  1.],\n",
       "       [69.,  1.],\n",
       "       [70.,  1.],\n",
       "       [71.,  1.],\n",
       "       [72.,  1.],\n",
       "       [73.,  1.],\n",
       "       [ 0.,  0.],\n",
       "       [ 1.,  0.],\n",
       "       [ 2.,  0.],\n",
       "       [ 3.,  0.],\n",
       "       [ 4.,  0.],\n",
       "       [ 5.,  0.],\n",
       "       [ 6.,  0.],\n",
       "       [ 7.,  0.],\n",
       "       [ 8.,  0.],\n",
       "       [ 9.,  0.],\n",
       "       [10.,  0.],\n",
       "       [11.,  0.],\n",
       "       [12.,  0.],\n",
       "       [13.,  0.],\n",
       "       [14.,  0.],\n",
       "       [15.,  0.],\n",
       "       [16.,  0.],\n",
       "       [17.,  0.],\n",
       "       [18.,  0.],\n",
       "       [19.,  0.],\n",
       "       [20.,  0.],\n",
       "       [21.,  0.],\n",
       "       [22.,  0.],\n",
       "       [23.,  0.],\n",
       "       [24.,  0.],\n",
       "       [25.,  0.],\n",
       "       [26.,  0.],\n",
       "       [27.,  0.],\n",
       "       [28.,  0.],\n",
       "       [29.,  0.],\n",
       "       [30.,  0.],\n",
       "       [31.,  0.],\n",
       "       [32.,  0.],\n",
       "       [33.,  0.],\n",
       "       [34.,  0.],\n",
       "       [35.,  0.],\n",
       "       [36.,  0.],\n",
       "       [37.,  0.],\n",
       "       [38.,  0.],\n",
       "       [39.,  0.],\n",
       "       [40.,  0.],\n",
       "       [41.,  0.],\n",
       "       [42.,  0.],\n",
       "       [43.,  0.],\n",
       "       [44.,  0.],\n",
       "       [45.,  0.],\n",
       "       [46.,  0.],\n",
       "       [47.,  0.],\n",
       "       [48.,  0.],\n",
       "       [49.,  0.],\n",
       "       [50.,  0.],\n",
       "       [51.,  0.],\n",
       "       [52.,  0.],\n",
       "       [53.,  0.],\n",
       "       [54.,  0.],\n",
       "       [55.,  0.],\n",
       "       [56.,  0.],\n",
       "       [57.,  0.],\n",
       "       [58.,  0.],\n",
       "       [59.,  0.],\n",
       "       [60.,  0.],\n",
       "       [61.,  0.],\n",
       "       [62.,  0.],\n",
       "       [63.,  0.],\n",
       "       [64.,  0.],\n",
       "       [65.,  0.],\n",
       "       [66.,  0.],\n",
       "       [67.,  0.],\n",
       "       [68.,  0.],\n",
       "       [69.,  0.],\n",
       "       [70.,  0.],\n",
       "       [71.,  0.],\n",
       "       [72.,  0.],\n",
       "       [73.,  0.]])"
      ]
     },
     "execution_count": 241,
     "metadata": {},
     "output_type": "execute_result"
    }
   ],
   "execution_count": 241
  },
  {
   "cell_type": "code",
   "id": "d83c791c",
   "metadata": {
    "ExecuteTime": {
     "end_time": "2024-10-08T14:44:06.160672Z",
     "start_time": "2024-10-08T14:44:05.874621Z"
    }
   },
   "source": [
    "#t_end = df_observed['days'].iloc[-1]\n",
    "#print(f't_end = {(t_end)}, t_fit = {len(t_fit)}')\n",
    "# Create a sequence from 0 to t_end\n",
    "#t_fit = np.arange(0, 2*tmax, 1)\n",
    "\n",
    "popt, pcov = curve_fit(objective_function_recoverd_dead, t_fit, recovered_dead)\n"
   ],
   "outputs": [],
   "execution_count": 242
  },
  {
   "cell_type": "code",
   "id": "9ccbb376",
   "metadata": {
    "ExecuteTime": {
     "end_time": "2024-10-08T14:44:06.454991Z",
     "start_time": "2024-10-08T14:44:06.439374Z"
    }
   },
   "source": [
    "popt"
   ],
   "outputs": [
    {
     "data": {
      "text/plain": [
       "array([1.02823575e+08])"
      ]
     },
     "execution_count": 243,
     "metadata": {},
     "output_type": "execute_result"
    }
   ],
   "execution_count": 243
  },
  {
   "cell_type": "code",
   "id": "1a81be71",
   "metadata": {
    "ExecuteTime": {
     "end_time": "2024-10-08T14:44:06.999120Z",
     "start_time": "2024-10-08T14:44:06.983384Z"
    }
   },
   "source": [
    "perr_r_d = np.sqrt(np.diag(pcov))\n",
    "perr_r_d"
   ],
   "outputs": [
    {
     "data": {
      "text/plain": [
       "array([2.62677862e+14])"
      ]
     },
     "execution_count": 244,
     "metadata": {},
     "output_type": "execute_result"
    }
   ],
   "execution_count": 244
  },
  {
   "cell_type": "code",
   "id": "d13da556",
   "metadata": {
    "ExecuteTime": {
     "end_time": "2024-10-08T14:44:07.681455Z",
     "start_time": "2024-10-08T14:44:07.649818Z"
    }
   },
   "source": "t_fit",
   "outputs": [
    {
     "data": {
      "text/plain": [
       "array([[ 0.,  1.],\n",
       "       [ 1.,  1.],\n",
       "       [ 2.,  1.],\n",
       "       [ 3.,  1.],\n",
       "       [ 4.,  1.],\n",
       "       [ 5.,  1.],\n",
       "       [ 6.,  1.],\n",
       "       [ 7.,  1.],\n",
       "       [ 8.,  1.],\n",
       "       [ 9.,  1.],\n",
       "       [10.,  1.],\n",
       "       [11.,  1.],\n",
       "       [12.,  1.],\n",
       "       [13.,  1.],\n",
       "       [14.,  1.],\n",
       "       [15.,  1.],\n",
       "       [16.,  1.],\n",
       "       [17.,  1.],\n",
       "       [18.,  1.],\n",
       "       [19.,  1.],\n",
       "       [20.,  1.],\n",
       "       [21.,  1.],\n",
       "       [22.,  1.],\n",
       "       [23.,  1.],\n",
       "       [24.,  1.],\n",
       "       [25.,  1.],\n",
       "       [26.,  1.],\n",
       "       [27.,  1.],\n",
       "       [28.,  1.],\n",
       "       [29.,  1.],\n",
       "       [30.,  1.],\n",
       "       [31.,  1.],\n",
       "       [32.,  1.],\n",
       "       [33.,  1.],\n",
       "       [34.,  1.],\n",
       "       [35.,  1.],\n",
       "       [36.,  1.],\n",
       "       [37.,  1.],\n",
       "       [38.,  1.],\n",
       "       [39.,  1.],\n",
       "       [40.,  1.],\n",
       "       [41.,  1.],\n",
       "       [42.,  1.],\n",
       "       [43.,  1.],\n",
       "       [44.,  1.],\n",
       "       [45.,  1.],\n",
       "       [46.,  1.],\n",
       "       [47.,  1.],\n",
       "       [48.,  1.],\n",
       "       [49.,  1.],\n",
       "       [50.,  1.],\n",
       "       [51.,  1.],\n",
       "       [52.,  1.],\n",
       "       [53.,  1.],\n",
       "       [54.,  1.],\n",
       "       [55.,  1.],\n",
       "       [56.,  1.],\n",
       "       [57.,  1.],\n",
       "       [58.,  1.],\n",
       "       [59.,  1.],\n",
       "       [60.,  1.],\n",
       "       [61.,  1.],\n",
       "       [62.,  1.],\n",
       "       [63.,  1.],\n",
       "       [64.,  1.],\n",
       "       [65.,  1.],\n",
       "       [66.,  1.],\n",
       "       [67.,  1.],\n",
       "       [68.,  1.],\n",
       "       [69.,  1.],\n",
       "       [70.,  1.],\n",
       "       [71.,  1.],\n",
       "       [72.,  1.],\n",
       "       [73.,  1.],\n",
       "       [ 0.,  0.],\n",
       "       [ 1.,  0.],\n",
       "       [ 2.,  0.],\n",
       "       [ 3.,  0.],\n",
       "       [ 4.,  0.],\n",
       "       [ 5.,  0.],\n",
       "       [ 6.,  0.],\n",
       "       [ 7.,  0.],\n",
       "       [ 8.,  0.],\n",
       "       [ 9.,  0.],\n",
       "       [10.,  0.],\n",
       "       [11.,  0.],\n",
       "       [12.,  0.],\n",
       "       [13.,  0.],\n",
       "       [14.,  0.],\n",
       "       [15.,  0.],\n",
       "       [16.,  0.],\n",
       "       [17.,  0.],\n",
       "       [18.,  0.],\n",
       "       [19.,  0.],\n",
       "       [20.,  0.],\n",
       "       [21.,  0.],\n",
       "       [22.,  0.],\n",
       "       [23.,  0.],\n",
       "       [24.,  0.],\n",
       "       [25.,  0.],\n",
       "       [26.,  0.],\n",
       "       [27.,  0.],\n",
       "       [28.,  0.],\n",
       "       [29.,  0.],\n",
       "       [30.,  0.],\n",
       "       [31.,  0.],\n",
       "       [32.,  0.],\n",
       "       [33.,  0.],\n",
       "       [34.,  0.],\n",
       "       [35.,  0.],\n",
       "       [36.,  0.],\n",
       "       [37.,  0.],\n",
       "       [38.,  0.],\n",
       "       [39.,  0.],\n",
       "       [40.,  0.],\n",
       "       [41.,  0.],\n",
       "       [42.,  0.],\n",
       "       [43.,  0.],\n",
       "       [44.,  0.],\n",
       "       [45.,  0.],\n",
       "       [46.,  0.],\n",
       "       [47.,  0.],\n",
       "       [48.,  0.],\n",
       "       [49.,  0.],\n",
       "       [50.,  0.],\n",
       "       [51.,  0.],\n",
       "       [52.,  0.],\n",
       "       [53.,  0.],\n",
       "       [54.,  0.],\n",
       "       [55.,  0.],\n",
       "       [56.,  0.],\n",
       "       [57.,  0.],\n",
       "       [58.,  0.],\n",
       "       [59.,  0.],\n",
       "       [60.,  0.],\n",
       "       [61.,  0.],\n",
       "       [62.,  0.],\n",
       "       [63.,  0.],\n",
       "       [64.,  0.],\n",
       "       [65.,  0.],\n",
       "       [66.,  0.],\n",
       "       [67.,  0.],\n",
       "       [68.,  0.],\n",
       "       [69.,  0.],\n",
       "       [70.,  0.],\n",
       "       [71.,  0.],\n",
       "       [72.,  0.],\n",
       "       [73.,  0.]])"
      ]
     },
     "execution_count": 245,
     "metadata": {},
     "output_type": "execute_result"
    }
   ],
   "execution_count": 245
  },
  {
   "cell_type": "code",
   "id": "83b9d599",
   "metadata": {
    "ExecuteTime": {
     "end_time": "2024-10-08T14:45:03.028047Z",
     "start_time": "2024-10-08T14:45:02.996804Z"
    }
   },
   "source": [
    "f = objective_function_recoverd_dead(t_fit,12)\n",
    "obj_recovered = f[:len(t_fit)//2]\n",
    "obj_dead = f[len(t_fit)//2:]\n"
   ],
   "outputs": [],
   "execution_count": 251
  },
  {
   "metadata": {
    "ExecuteTime": {
     "end_time": "2024-10-08T14:45:04.523034Z",
     "start_time": "2024-10-08T14:45:04.507413Z"
    }
   },
   "cell_type": "code",
   "source": "f",
   "id": "a318558fa30987c7",
   "outputs": [
    {
     "data": {
      "text/plain": [
       "array([170204.        , 170697.69125947, 171165.81135316, 171613.9293934 ,\n",
       "       172045.96661899, 172465.25073062, 172874.21585038, 173274.21092242,\n",
       "       173666.35374545, 174051.60394156, 174430.49635099, 174803.10364325,\n",
       "       175169.49698621, 175529.78401021, 175884.08347153, 176232.23274299,\n",
       "       176573.94049141, 176908.99014622, 177237.23935217, 177558.61996932,\n",
       "       177873.11617774, 178180.54196358, 178480.69974722, 178773.45562378,\n",
       "       179058.72639207, 179336.4795546 , 179606.73331757, 179869.55659086,\n",
       "       180124.98241521, 180372.96452135, 180613.54054212, 180846.76737049,\n",
       "       181072.72062252, 181291.49463739, 181503.20247737, 181707.97592783,\n",
       "       181905.96549724, 182097.30747237, 182282.10122005, 182460.48551019,\n",
       "       182632.60447178, 182798.606878  , 182958.64614618, 183112.8803378 ,\n",
       "       183261.47215853, 183404.5889582 , 183542.40273079, 183675.08779861,\n",
       "       183802.77540917, 183925.59847838, 184043.70351568, 184157.24064474,\n",
       "       184266.36360341, 184371.22974378, 184472.00002294, 184568.81440823,\n",
       "       184661.79374342, 184751.06970622, 184836.77275776, 184919.03214258,\n",
       "       184997.97588865, 185073.73080736, 185146.41913383, 185216.14942847,\n",
       "       185283.02918652, 185347.16416246, 185408.65815558, 185467.61300993,\n",
       "       185524.12861433, 185578.3029024 , 185630.23185255, 185680.0021248 ,\n",
       "       185727.69325769, 185773.38813699,   9060.        ,   9076.7068357 ,\n",
       "         9097.95277524,   9122.51284745,   9149.5189819 ,   9178.18184681,\n",
       "         9207.89547444,   9238.29413082,   9269.04016798,   9299.81910174,\n",
       "         9330.41251951,   9360.69604707,   9390.54999136,   9419.85546512,\n",
       "         9448.50034917,   9476.43887215,   9503.65393051,   9530.12452817,\n",
       "         9555.82692558,   9580.73463974,   9604.82159316,   9628.09707584,\n",
       "         9650.58290098,   9672.29631366,   9693.25138343,   9713.45900432,\n",
       "         9732.92689484,   9751.65959799,   9769.6691527 ,   9786.98784146,\n",
       "         9803.64287728,   9819.65872126,   9835.05713315,   9849.85717136,\n",
       "         9864.07519292,   9877.72485352,   9890.81710749,   9903.36458402,\n",
       "         9915.3948757 ,   9926.93593537,   9938.01237575,   9948.64550155,\n",
       "         9958.85330949,   9968.65048829,   9978.04841869,   9987.05517342,\n",
       "         9995.67551724,  10003.91235736,  10011.79489831,  10019.34989911,\n",
       "        10026.59434392,  10033.54174288,  10040.20213206,  10046.58207351,\n",
       "        10052.68465952,  10058.5210666 ,  10064.11004697,  10069.46345552,\n",
       "        10074.59167452,  10079.50361368,  10084.20671013,  10088.70692842,\n",
       "        10093.0104575 ,  10097.12828744,  10101.06993737,  10104.84386923,\n",
       "        10108.45759726,  10111.91768798,  10115.22976023,  10118.39848511,\n",
       "        10121.42758604,  10124.32360061,  10127.09500009,  10129.74690146])"
      ]
     },
     "execution_count": 252,
     "metadata": {},
     "output_type": "execute_result"
    }
   ],
   "execution_count": 252
  },
  {
   "metadata": {
    "ExecuteTime": {
     "end_time": "2024-10-08T14:45:17.959316Z",
     "start_time": "2024-10-08T14:45:17.744248Z"
    }
   },
   "cell_type": "code",
   "source": [
    "t = t_fit[:len(t_fit)//2,0]\n",
    "\n",
    "fig, ax = plt.subplots(1, 1, figsize=(12, 4))\n",
    "n=50\n",
    "t=t[:n]\n",
    "obj_d=obj_dead[:n]\n",
    "dfo = df_observed['Deaths'][:n]\n",
    "plt.plot(t, obj_d, '--')\n",
    "plt.plot(t,dfo)\n",
    "ax.set_xlabel('days')\n",
    "ax.set_ylabel('number')\n",
    "plt.show()"
   ],
   "id": "f710ab64256e0432",
   "outputs": [
    {
     "data": {
      "text/plain": [
       "<Figure size 1200x400 with 1 Axes>"
      ],
      "image/png": "[encoded data removed]"
     },
     "metadata": {},
     "output_type": "display_data"
    }
   ],
   "execution_count": 253
  },
  {
   "metadata": {
    "ExecuteTime": {
     "end_time": "2024-10-08T14:43:44.909465Z",
     "start_time": "2024-10-08T14:43:44.875880Z"
    }
   },
   "cell_type": "code",
   "source": "obj_dead",
   "id": "c85163f4d4306811",
   "outputs": [
    {
     "data": {
      "text/plain": [
       "array([9060.        , 9076.89677822, 9099.34660198, 9126.78772008,\n",
       "       9158.64488755, 9194.47656814, 9233.92240245, 9276.5712213 ,\n",
       "       9322.1013123 , 9370.25231374, 9420.81382497, 9473.57936229,\n",
       "       9528.39304125, 9585.12273933, 9643.65526261])"
      ]
     },
     "execution_count": 234,
     "metadata": {},
     "output_type": "execute_result"
    }
   ],
   "execution_count": 234
  },
  {
   "metadata": {},
   "cell_type": "code",
   "outputs": [],
   "execution_count": null,
   "source": "",
   "id": "6c088ed158cc77d9"
  }
 ],
 "metadata": {
  "kernelspec": {
   "display_name": "Python 3 (ipykernel)",
   "language": "python",
   "name": "python3"
  },
  "language_info": {
   "codemirror_mode": {
    "name": "ipython",
    "version": 3
   },
   "file_extension": ".py",
   "mimetype": "text/x-python",
   "name": "python",
   "nbconvert_exporter": "python",
   "pygments_lexer": "ipython3",
   "version": "3.10.9"
  }
 },
 "nbformat": 4,
 "nbformat_minor": 5
}
